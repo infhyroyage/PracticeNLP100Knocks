{
 "cells": [
  {
   "cell_type": "markdown",
   "metadata": {},
   "source": [
    "# [第10章: ベクトル空間法 (II)](http://www.cl.ecei.tohoku.ac.jp/nlp100/#ch10)\n",
    "第10章では，前章に引き続き単語ベクトルの学習に取り組む．"
   ]
  },
  {
   "cell_type": "markdown",
   "metadata": {},
   "source": [
    "## 90. word2vecによる学習\n",
    "81で作成したコーパスに対して[word2vec](https://code.google.com/p/word2vec/)を適用し，単語ベクトルを学習せよ．さらに，学習した単語ベクトルの形式を変換し，86-89のプログラムを動かせ．"
   ]
  },
  {
   "cell_type": "code",
   "execution_count": 1,
   "metadata": {},
   "outputs": [
    {
     "name": "stdout",
     "output_type": "stream",
     "text": [
      "Output/Chapter9/81.txt\r\n"
     ]
    }
   ],
   "source": [
    "!ls Output/Chapter9/81.txt"
   ]
  },
  {
   "cell_type": "code",
   "execution_count": 2,
   "metadata": {},
   "outputs": [],
   "source": [
    "from gensim.models.word2vec import Word2Vec\n",
    "from tqdm import tqdm"
   ]
  },
  {
   "cell_type": "code",
   "execution_count": 3,
   "metadata": {},
   "outputs": [
    {
     "name": "stderr",
     "output_type": "stream",
     "text": [
      "284434it [00:02, 141200.31it/s]\n"
     ]
    },
    {
     "name": "stdout",
     "output_type": "stream",
     "text": [
      "CPU times: user 3min 4s, sys: 1.31 s, total: 3min 6s\n",
      "Wall time: 1min 17s\n"
     ]
    }
   ],
   "source": [
    "%%time\n",
    "model = None\n",
    "\n",
    "with open(\"Output/Chapter9/81.txt\") as f:\n",
    "    sentences = [line.replace(\"\\n\", \"\").split() for line in tqdm(f)]\n",
    "    model = Word2Vec(sentences=sentences, size=300, seed=90)\n",
    "    model.save(\"Output/Chapter10/90_word2vec.model\")"
   ]
  },
  {
   "cell_type": "code",
   "execution_count": 4,
   "metadata": {},
   "outputs": [],
   "source": [
    "model = Word2Vec.load(\"Output/Chapter10/90_word2vec.model\")"
   ]
  },
  {
   "cell_type": "code",
   "execution_count": 5,
   "metadata": {},
   "outputs": [
    {
     "data": {
      "text/plain": [
       "(300,)"
      ]
     },
     "execution_count": 5,
     "metadata": {},
     "output_type": "execute_result"
    }
   ],
   "source": [
    "# 86\n",
    "model.wv[\"United_States\"].shape"
   ]
  },
  {
   "cell_type": "code",
   "execution_count": 6,
   "metadata": {
    "scrolled": true
   },
   "outputs": [
    {
     "data": {
      "text/plain": [
       "array([ 2.2056072 ,  0.23797153, -0.32921836,  0.47713012, -0.22696011,\n",
       "       -1.3468328 , -0.6965469 ,  1.5750383 ,  2.0900877 ,  0.6173464 ,\n",
       "       -0.60352635, -0.10734959, -1.1178272 , -1.0017172 ,  0.59014404,\n",
       "        0.85129   ,  0.6314024 , -0.36382258,  0.51196027, -0.5345813 ,\n",
       "        0.34991196, -1.2022761 , -0.93957376,  0.23977031, -0.01586397,\n",
       "       -1.0798851 ,  0.06522913,  1.3168948 , -0.31785753,  0.49251235,\n",
       "        0.65566784, -0.5107309 ,  0.37079474,  0.32484797, -1.5810126 ,\n",
       "       -0.48663917, -0.2901325 ,  0.327655  , -0.51501805, -0.01867462,\n",
       "        1.6689357 ,  0.8086889 ,  0.79546916,  0.9805552 , -0.65693635,\n",
       "       -0.63790965,  0.05999496,  0.60563964,  0.0576582 ,  0.25350642,\n",
       "       -0.23809116,  0.79494035,  0.42077702,  1.5223198 ,  1.4085655 ,\n",
       "        0.61609113, -0.08235477, -0.11829191, -1.3095598 ,  0.2187884 ,\n",
       "        0.26629207,  0.82218623,  0.6380575 , -0.60547984,  0.53090596,\n",
       "       -0.21515298, -0.71982366,  0.3724946 ,  0.9698897 ,  1.4866891 ,\n",
       "       -0.04855668,  0.6343121 ,  0.2296745 ,  0.54814404, -0.92072606,\n",
       "       -0.4140706 , -0.3998209 ,  0.67338294,  0.47079548, -0.16624354,\n",
       "        0.50540626,  0.84296095, -0.47272956,  0.7351443 , -0.39572075,\n",
       "        0.87650347,  0.5104523 , -0.13570015,  0.206564  ,  0.24627177,\n",
       "       -2.3093498 ,  0.11973923,  0.60138404, -0.06253893,  1.4297321 ,\n",
       "       -0.0337587 , -0.32201907,  0.693382  ,  0.18994644,  0.06511194,\n",
       "       -0.01208051,  0.25468254,  0.09018239,  0.07376575,  0.1982967 ,\n",
       "       -0.50882727, -0.23760603, -0.78196007,  0.1017561 , -1.1315699 ,\n",
       "       -0.37435597, -0.6168421 , -1.6907954 , -0.38297814, -1.1312808 ,\n",
       "       -0.18523669, -1.45823   , -0.08305506, -0.66384727,  0.82054186,\n",
       "        0.9460562 , -0.80658245,  2.1002982 , -0.33639494,  0.26665273,\n",
       "       -0.79696584, -3.260331  , -0.5647598 , -0.5463944 , -0.2833728 ,\n",
       "       -0.33991754,  0.29901886,  1.041688  , -0.25471255, -0.27743155,\n",
       "       -0.41063553, -0.5350488 , -0.9022759 ,  0.36796853,  0.8727867 ,\n",
       "       -0.8618105 , -0.14101525, -1.2093558 , -1.2107867 , -0.96709543,\n",
       "       -0.40630698, -0.22960791,  0.95269454,  1.1365852 , -0.04661132,\n",
       "        0.66156703, -1.0963527 , -0.03492392, -0.9483208 , -0.49457154,\n",
       "        0.12711428, -0.15618709,  0.9952692 , -0.19716653,  0.5533768 ,\n",
       "        0.02378727, -0.01691582, -0.02387832,  1.1670213 , -0.44598523,\n",
       "       -0.246359  ,  0.32355866,  1.2909758 ,  0.9281224 , -1.3000158 ,\n",
       "       -0.6860199 , -0.33802846, -0.89235365,  0.28973857, -1.1357489 ,\n",
       "       -0.07413115,  0.26686534,  0.65745586, -1.4642332 ,  0.08062179,\n",
       "        1.2105708 ,  0.26663998, -0.12908027,  0.57625496, -0.09007674,\n",
       "       -0.8742925 ,  2.4793713 , -0.299286  , -0.13403054,  0.41730943,\n",
       "        0.65725344,  0.09439655, -0.6447857 , -0.82367   , -0.64235234,\n",
       "       -0.86569977, -0.45125046,  0.7257699 ,  0.31122777,  0.05962804,\n",
       "        1.1795102 ,  0.542416  ,  0.35875213,  0.48950025,  0.6558695 ,\n",
       "       -0.24396563, -1.239695  ,  0.1850112 , -0.01592786,  0.6535999 ,\n",
       "        1.4320757 , -0.72538406, -0.8333489 ,  0.09063965,  0.94544995,\n",
       "        0.05956826, -0.2231698 ,  0.28431198, -0.27799952, -0.44631243,\n",
       "       -0.70319015, -0.9767069 , -1.5776792 ,  1.148841  , -1.0846077 ,\n",
       "        0.39528546, -0.17647815,  0.38552323,  0.9659134 ,  0.7301227 ,\n",
       "        0.76249677, -0.9807067 , -0.44474947, -0.54885966, -1.5181861 ,\n",
       "       -0.33435094,  0.61027634,  0.12140444,  0.02063078,  1.1871753 ,\n",
       "        0.07726871,  1.7483224 , -0.47724533, -2.0398054 , -0.98437   ,\n",
       "        0.750569  , -0.50817686, -0.3319427 , -0.9390343 , -0.08097561,\n",
       "       -2.2654228 ,  1.0846381 ,  0.39012292,  1.2081779 , -0.03419546,\n",
       "        0.9619635 ,  0.26066697,  0.18458922, -0.19478494,  1.546707  ,\n",
       "        0.4560252 , -0.5911249 , -0.34719494,  0.58761066,  1.1672521 ,\n",
       "        1.4524473 ,  0.74432933, -1.1283476 , -0.5902313 ,  1.0061014 ,\n",
       "        1.5122566 , -0.6084137 ,  0.12452118, -0.86680394,  0.8384159 ,\n",
       "       -0.5079487 , -1.0851729 , -0.5457908 , -0.5020396 ,  0.36217013,\n",
       "        0.81008095, -0.51059383, -0.74363333, -0.28202668, -0.56176996,\n",
       "        0.38636687,  0.34324965,  0.6872555 ,  0.52999383,  0.5356896 ,\n",
       "       -0.22006717, -0.05516513,  0.1551444 , -1.5234485 , -0.07739274,\n",
       "        0.5821814 ,  0.2529275 , -0.5258101 , -1.1154966 , -0.90746814],\n",
       "      dtype=float32)"
      ]
     },
     "execution_count": 6,
     "metadata": {},
     "output_type": "execute_result"
    }
   ],
   "source": [
    "# 86\n",
    "model.wv[\"United_States\"]"
   ]
  },
  {
   "cell_type": "code",
   "execution_count": 7,
   "metadata": {},
   "outputs": [
    {
     "data": {
      "text/plain": [
       "0.85844314"
      ]
     },
     "execution_count": 7,
     "metadata": {},
     "output_type": "execute_result"
    }
   ],
   "source": [
    "# 87\n",
    "model.wv.n_similarity([\"United_States\"], [\"U.S\"])"
   ]
  },
  {
   "cell_type": "code",
   "execution_count": 8,
   "metadata": {},
   "outputs": [
    {
     "name": "stdout",
     "output_type": "stream",
     "text": [
      "[1/10] Scotland : 0.775545\n",
      "[2/10] Wales : 0.771095\n",
      "[3/10] Ireland : 0.641085\n",
      "[4/10] Sweden : 0.612036\n",
      "[5/10] Britain : 0.591447\n",
      "[6/10] Hampshire : 0.574492\n",
      "[7/10] London : 0.564641\n",
      "[8/10] Liverpool : 0.562679\n",
      "[9/10] Manchester : 0.560126\n",
      "[10/10] Plymouth : 0.555277\n"
     ]
    }
   ],
   "source": [
    "# 88\n",
    "for i, (word, cos_sim) in enumerate(model.wv.similar_by_word(\"England\", topn=10)):\n",
    "    args = (i+1, word, cos_sim)\n",
    "    print(\"[%d/10] %s : %f\" % args)"
   ]
  },
  {
   "cell_type": "code",
   "execution_count": 9,
   "metadata": {},
   "outputs": [
    {
     "name": "stdout",
     "output_type": "stream",
     "text": [
      "[1/10] Spain : 0.888941\n",
      "[2/10] Italy : 0.818233\n",
      "[3/10] Austria : 0.788470\n",
      "[4/10] Portugal : 0.775220\n",
      "[5/10] Egypt : 0.772404\n",
      "[6/10] Greece : 0.765626\n",
      "[7/10] Sweden : 0.760077\n",
      "[8/10] Germany : 0.755487\n",
      "[9/10] Denmark : 0.754107\n",
      "[10/10] Hungary : 0.733094\n"
     ]
    }
   ],
   "source": [
    "# 89\n",
    "x_greece = model.wv[\"Spain\"] - model.wv[\"Madrid\"] + model.wv[\"Athens\"]\n",
    "for i, (word, cos_sim) in enumerate(model.wv.similar_by_vector(x_greece, topn=10)):\n",
    "    args = (i+1, word, cos_sim)\n",
    "    print(\"[%d/10] %s : %f\" % args)"
   ]
  },
  {
   "cell_type": "markdown",
   "metadata": {},
   "source": [
    "## 91. アナロジーデータの準備\n",
    "[単語アナロジーの評価データ](https://raw.githubusercontent.com/svn2github/word2vec/master/questions-words.txt)をダウンロードせよ．このデータ中で\": \"で始まる行はセクション名を表す．例えば，\": capital-common-countries\"という行は，\"capital-common-countries\"というセクションの開始を表している．ダウンロードした評価データの中で，\"family\"というセクションに含まれる評価事例を抜き出してファイルに保存せよ．"
   ]
  },
  {
   "cell_type": "code",
   "execution_count": 10,
   "metadata": {},
   "outputs": [
    {
     "name": "stdout",
     "output_type": "stream",
     "text": [
      "Input/questions-words.txt\r\n"
     ]
    }
   ],
   "source": [
    "!ls Input/questions-words.txt"
   ]
  },
  {
   "cell_type": "code",
   "execution_count": 11,
   "metadata": {},
   "outputs": [],
   "source": [
    "with open(\"Input/questions-words.txt\") as f, open(\"Output/Chapter10/91.txt\", \"w\") as f_91:\n",
    "    is_family = False\n",
    "    for line in f:\n",
    "        if line == \": family\\n\":\n",
    "            is_family = True\n",
    "            continue\n",
    "        if not is_family:\n",
    "            continue\n",
    "\n",
    "        if line[:2] == \": \":\n",
    "            break\n",
    "        else:\n",
    "            f_91.write(line)"
   ]
  },
  {
   "cell_type": "markdown",
   "metadata": {},
   "source": [
    "## 92. アナロジーデータへの適用\n",
    "91で作成した評価データの各事例に対して，vec(2列目の単語) - vec(1列目の単語) + vec(3列目の単語)を計算し，そのベクトルと類似度が最も高い単語と，その類似度を求めよ．求めた単語と類似度は，各事例の末尾に追記せよ．このプログラムを85で作成した単語ベクトル，90で作成した単語ベクトルに対して適用せよ．"
   ]
  },
  {
   "cell_type": "code",
   "execution_count": 12,
   "metadata": {},
   "outputs": [],
   "source": [
    "import numpy as np\n",
    "import pickle"
   ]
  },
  {
   "cell_type": "code",
   "execution_count": 13,
   "metadata": {},
   "outputs": [
    {
     "name": "stdout",
     "output_type": "stream",
     "text": [
      "len(t_list)=382481, len(c_list)=382901\n",
      "CPU times: user 222 ms, sys: 36.2 ms, total: 258 ms\n",
      "Wall time: 241 ms\n"
     ]
    }
   ],
   "source": [
    "%%time\n",
    "t_list, c_list = None, None\n",
    "\n",
    "with open(\"Output/Chapter9/83_f_t.txt\") as f_83_t, open(\"Output/Chapter9/83_f_c.txt\") as f_83_c:\n",
    "    t_list = [line.split()[1] for line in f_83_t]\n",
    "    c_list = [line.split()[1] for line in f_83_c]\n",
    "\n",
    "print(\"len(t_list)=%d, len(c_list)=%d\" % (len(t_list), len(c_list)))"
   ]
  },
  {
   "cell_type": "code",
   "execution_count": 14,
   "metadata": {},
   "outputs": [
    {
     "data": {
      "text/plain": [
       "(382481, 300)"
      ]
     },
     "execution_count": 14,
     "metadata": {},
     "output_type": "execute_result"
    }
   ],
   "source": [
    "X_85 = None\n",
    "\n",
    "with open(\"Output/Chapter9/85_X_comp.pickle\", \"rb\") as f_85:\n",
    "    X_85 = pickle.load(f_85)\n",
    "\n",
    "X_85.shape"
   ]
  },
  {
   "cell_type": "code",
   "execution_count": 15,
   "metadata": {},
   "outputs": [],
   "source": [
    "def cossim_for_X_85(x: np.ndarray, y: np.ndarray):\n",
    "    if np.linalg.norm(x) == 0 or np.linalg.norm(y) == 0:\n",
    "        return -1\n",
    "    else:\n",
    "        return np.dot(x,y) / (np.linalg.norm(x)*np.linalg.norm(y))"
   ]
  },
  {
   "cell_type": "code",
   "execution_count": 16,
   "metadata": {},
   "outputs": [
    {
     "name": "stderr",
     "output_type": "stream",
     "text": [
      "506it [28:27,  3.37s/it]\n"
     ]
    }
   ],
   "source": [
    "# 85\n",
    "with open(\"Output/Chapter10/91.txt\") as f_91, open(\"Output/Chapter10/92_from_85.txt\", \"w\") as f_92:\n",
    "    for line in tqdm(f_91):\n",
    "        word, cossim, elements = \"???\", -1.0, line.replace(\"\\n\", \"\").split()\n",
    "\n",
    "        # 91.txtの1~3列目の単語のいずれかが、コーパスに存在しない場合は、\n",
    "        # ベクトルが算出できないため、類似度が最も高い単語は\"???\"、その類似度は-1.0として出力\n",
    "        if elements[0] in t_list and elements[1] in t_list and elements[2] in t_list:\n",
    "            indices = (t_list.index(elements[0]), t_list.index(elements[1]), t_list.index(elements[2]))\n",
    "            x = X_85[indices[1]] - X_85[indices[0]] + X_85[indices[2]]\n",
    "            cossims = [cossim_for_X_85(x, X_85[i]) for i in range(len(t_list))]\n",
    "            idx = np.argmax(cossims)\n",
    "            word, cossim = t_list[idx], cossims[idx]\n",
    "\n",
    "        args = (line.replace(\"\\n\", \"\"), word, cossim)\n",
    "        f_92.write(\"%s %s %f\\n\" % args)"
   ]
  },
  {
   "cell_type": "code",
   "execution_count": 17,
   "metadata": {},
   "outputs": [
    {
     "name": "stderr",
     "output_type": "stream",
     "text": [
      "506it [00:01, 288.48it/s]\n"
     ]
    }
   ],
   "source": [
    "# 90\n",
    "with open(\"Output/Chapter10/91.txt\") as f_91, open(\"Output/Chapter10/92_from_90.txt\", \"w\") as f_92:\n",
    "    for line in tqdm(f_91):\n",
    "        word, cossim, elements = \"???\", -1.0, line.replace(\"\\n\", \"\").split()\n",
    "\n",
    "        # 91.txtの1~3列目の単語のいずれかが、コーパスに存在しない場合は、\n",
    "        # ベクトルが算出できないため、類似度が最も高い単語は\"???\"、その類似度は-1.0として出力\n",
    "        if elements[0] in model.wv and elements[1] in model.wv and elements[2] in model.wv:\n",
    "            x = model.wv[elements[1]] - model.wv[elements[0]] + model.wv[elements[2]]\n",
    "            word, cossim = model.wv.similar_by_vector(x, topn=1)[0]\n",
    "\n",
    "        args = (line.replace(\"\\n\", \"\"), word, cossim)\n",
    "        f_92.write(\"%s %s %f\\n\" % args)"
   ]
  },
  {
   "cell_type": "markdown",
   "metadata": {},
   "source": [
    "## 93. アナロジータスクの正解率の計算\n",
    "92で作ったデータを用い，各モデルのアナロジータスクの正解率を求めよ．"
   ]
  },
  {
   "cell_type": "code",
   "execution_count": 18,
   "metadata": {},
   "outputs": [
    {
     "name": "stdout",
     "output_type": "stream",
     "text": [
      "85 Model:1.778656%, 90 Model:9.486166%\n"
     ]
    }
   ],
   "source": [
    "with open(\"Output/Chapter10/92_from_85.txt\") as f_from_85, open(\"Output/Chapter10/92_from_90.txt\") as f_from_90:\n",
    "    accuracies = []\n",
    "\n",
    "    for f in [f_from_85, f_from_90]:\n",
    "        total, correct = 0, 0\n",
    "        for line in f:\n",
    "            total += 1\n",
    "            elements = line.replace(\"\\n\", \"\").split()\n",
    "            if elements[3] == elements[4]:\n",
    "                correct += 1\n",
    "        accuracies.append(100.0 * correct / total)\n",
    "\n",
    "    print(\"85 Model:%f%%, 90 Model:%f%%\" % (accuracies[0], accuracies[1]))"
   ]
  },
  {
   "cell_type": "markdown",
   "metadata": {},
   "source": [
    "## 94. WordSimilarity-353での類似度計算\n",
    "[The WordSimilarity-353 Test Collection](http://www.cs.technion.ac.il/~gabr/resources/data/wordsim353/)の評価データを入力とし，1列目と2列目の単語の類似度を計算し，各行の末尾に類似度の値を追加するプログラムを作成せよ．このプログラムを85で作成した単語ベクトル，90で作成した単語ベクトルに対して適用せよ．"
   ]
  },
  {
   "cell_type": "markdown",
   "metadata": {},
   "source": [
    "### 注意\n",
    "2020年4月19日現在、[The WordSimilarity-353 Test Collection](http://www.cs.technion.ac.il/~gabr/resources/data/wordsim353/)の評価データのリンクが切れているため、[WordSim353 - Similarity and Relatednessを用いて何らかの評価を行った結果のデータ](http://alfonseca.org/pubs/ws353simrel.tar.gz)の中からwordsim353_agreed.txtを借用し、それを成形することで代用した。"
   ]
  },
  {
   "cell_type": "code",
   "execution_count": 19,
   "metadata": {},
   "outputs": [
    {
     "name": "stdout",
     "output_type": "stream",
     "text": [
      "Input/wordsim353_agreed.txt\r\n"
     ]
    }
   ],
   "source": [
    "!ls Input/wordsim353_agreed.txt"
   ]
  },
  {
   "cell_type": "code",
   "execution_count": 20,
   "metadata": {},
   "outputs": [],
   "source": [
    "with open(\"Input/wordsim353_agreed.txt\") as f, open(\"Output/Chapter10/94_wordsim-353.txt\", \"w\") as f_94:\n",
    "    for line in f:\n",
    "        if line[0] == \"#\":\n",
    "            continue\n",
    "        elements = line.split()\n",
    "        f_94.write(\"%s\\t%s\\t%s\\n\" % (elements[1], elements[2], elements[3]))"
   ]
  },
  {
   "cell_type": "code",
   "execution_count": 21,
   "metadata": {},
   "outputs": [
    {
     "name": "stdout",
     "output_type": "stream",
     "text": [
      "Output/Chapter10/94_wordsim-353.txt\r\n"
     ]
    }
   ],
   "source": [
    "!ls Output/Chapter10/94_wordsim-353.txt"
   ]
  },
  {
   "cell_type": "code",
   "execution_count": 22,
   "metadata": {},
   "outputs": [
    {
     "name": "stderr",
     "output_type": "stream",
     "text": [
      "352it [00:04, 82.49it/s]\n"
     ]
    }
   ],
   "source": [
    "# 85\n",
    "with open(\"Output/Chapter10/94_wordsim-353.txt\") as f, open(\"Output/Chapter10/94_from_85.txt\", \"w\") as f_94:\n",
    "    for line in tqdm(f):\n",
    "        cossim, elements = -1.0, line.replace(\"\\n\", \"\").split()\n",
    "\n",
    "        # 94_wordsim-353.txtの1~2列目の単語のいずれかが、コーパスに存在しない場合は、\n",
    "        # ベクトルが算出できないため、類似度を-1.0として出力\n",
    "        if elements[0] in t_list and elements[1] in t_list:\n",
    "            indices = (t_list.index(elements[0]), t_list.index(elements[1]))\n",
    "            cossim = cossim_for_X_85(X_85[indices[0]], X_85[indices[1]])\n",
    "\n",
    "        args = (line.replace(\"\\n\", \"\"), cossim)\n",
    "        f_94.write(\"%s %f\\n\" % args)"
   ]
  },
  {
   "cell_type": "code",
   "execution_count": 23,
   "metadata": {},
   "outputs": [
    {
     "name": "stderr",
     "output_type": "stream",
     "text": [
      "352it [00:00, 24418.96it/s]\n"
     ]
    }
   ],
   "source": [
    "# 90\n",
    "with open(\"Output/Chapter10/94_wordsim-353.txt\") as f, open(\"Output/Chapter10/94_from_90.txt\", \"w\") as f_94:\n",
    "    for line in tqdm(f):\n",
    "        cossim, elements = -1.0, line.replace(\"\\n\", \"\").split()\n",
    "\n",
    "        # 94_wordsim-353.txtの1~2列目の単語のいずれかが、コーパスに存在しない場合は、\n",
    "        # ベクトルが算出できないため、類似度を-1.0として出力\n",
    "        if elements[0] in model.wv and elements[1] in model.wv:\n",
    "            cossim = model.wv.n_similarity([elements[0]], [elements[1]])\n",
    "\n",
    "        args = (line.replace(\"\\n\", \"\"), cossim)\n",
    "        f_94.write(\"%s %f\\n\" % args)"
   ]
  },
  {
   "cell_type": "markdown",
   "metadata": {},
   "source": [
    "## 95. WordSimilarity-353での評価\n",
    "94で作ったデータを用い，各モデルが出力する類似度のランキングと，人間の類似度判定のランキングの間のスピアマン相関係数を計算せよ．"
   ]
  },
  {
   "cell_type": "code",
   "execution_count": 24,
   "metadata": {},
   "outputs": [],
   "source": [
    "from scipy.stats import spearmanr"
   ]
  },
  {
   "cell_type": "code",
   "execution_count": 25,
   "metadata": {},
   "outputs": [
    {
     "name": "stdout",
     "output_type": "stream",
     "text": [
      "85 Model:0.090700%, 90 Model:0.508218%\n"
     ]
    }
   ],
   "source": [
    "with open(\"Output/Chapter10/94_from_85.txt\") as f_from_85, open(\"Output/Chapter10/94_from_90.txt\") as f_from_90:\n",
    "    correlations = []\n",
    "\n",
    "    for f in [f_from_85, f_from_90]:\n",
    "        cossims, humans = [], []\n",
    "        for line in f:\n",
    "            elements = line.replace(\"\\n\", \"\").split()\n",
    "            cossims.append(float(elements[3]))\n",
    "            humans.append(float(elements[2]))\n",
    "\n",
    "        correlations.append(spearmanr(cossims, humans)[0])\n",
    "\n",
    "    print(\"85 Model:%f%%, 90 Model:%f%%\" % (correlations[0], correlations[1]))"
   ]
  },
  {
   "cell_type": "markdown",
   "metadata": {},
   "source": [
    "## 96. 国名に関するベクトルの抽出\n",
    "word2vecの学習結果から，国名に関するベクトルのみを抜き出せ．"
   ]
  },
  {
   "cell_type": "markdown",
   "metadata": {},
   "source": [
    "## 97. k-meansクラスタリング\n",
    "96の単語ベクトルに対して，k-meansクラスタリングをクラスタ数k=5として実行せよ．"
   ]
  },
  {
   "cell_type": "markdown",
   "metadata": {},
   "source": [
    "## 98. Ward法によるクラスタリング\n",
    "96の単語ベクトルに対して，Ward法による階層型クラスタリングを実行せよ．さらに，クラスタリング結果をデンドログラムとして可視化せよ．"
   ]
  },
  {
   "cell_type": "markdown",
   "metadata": {},
   "source": [
    "## 99. t-SNEによる可視化\n",
    "96の単語ベクトルに対して，ベクトル空間をt-SNEで可視化せよ．"
   ]
  }
 ],
 "metadata": {
  "kernelspec": {
   "display_name": "Python 3",
   "language": "python",
   "name": "python3"
  },
  "language_info": {
   "codemirror_mode": {
    "name": "ipython",
    "version": 3
   },
   "file_extension": ".py",
   "mimetype": "text/x-python",
   "name": "python",
   "nbconvert_exporter": "python",
   "pygments_lexer": "ipython3",
   "version": "3.6.9"
  }
 },
 "nbformat": 4,
 "nbformat_minor": 4
}
