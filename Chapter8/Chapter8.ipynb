{
 "cells": [
  {
   "cell_type": "markdown",
   "metadata": {},
   "source": [
    "# [第8章: 機械学習](http://www.cl.ecei.tohoku.ac.jp/nlp100/#ch8)\n",
    "本章では，Bo Pang氏とLillian Lee氏が公開している[Movie Review Data](http://www.cs.cornell.edu/people/pabo/movie-review-data/)の[sentence polarity dataset v1.0](http://www.cs.cornell.edu/people/pabo/movie-review-data/rt-polaritydata.README.1.0.txt)を用い，文を肯定的（ポジティブ）もしくは否定的（ネガティブ）に分類するタスク（極性分析）に取り組む．"
   ]
  },
  {
   "cell_type": "markdown",
   "metadata": {},
   "source": [
    "## 70. データの入手・整形\n",
    "[文に関する極性分析の正解データ](http://www.cs.cornell.edu/people/pabo/movie-review-data/rt-polaritydata.tar.gz)を用い，以下の要領で正解データ（sentiment.txt）を作成せよ．\n",
    "1. rt-polarity.posの各行の先頭に\"+1 \"という文字列を追加する（極性ラベル\"+1\"とスペースに続けて肯定的な文の内容が続く）\n",
    "2. rt-polarity.negの各行の先頭に\"-1 \"という文字列を追加する（極性ラベル\"-1\"とスペースに続けて否定的な文の内容が続く）\n",
    "3. 上述1と2の内容を結合（concatenate）し，行をランダムに並び替える\n",
    "\n",
    "sentiment.txtを作成したら，正例（肯定的な文）の数と負例（否定的な文）の数を確認せよ．"
   ]
  },
  {
   "cell_type": "code",
   "execution_count": 1,
   "metadata": {},
   "outputs": [
    {
     "name": "stdout",
     "output_type": "stream",
     "text": [
      "../Corpus/rt-polarity.neg  ../Corpus/rt-polarity.pos\r\n"
     ]
    }
   ],
   "source": [
    "!ls ../Corpus/rt-polarity.*"
   ]
  },
  {
   "cell_type": "code",
   "execution_count": 2,
   "metadata": {},
   "outputs": [],
   "source": [
    "import random"
   ]
  },
  {
   "cell_type": "code",
   "execution_count": 3,
   "metadata": {},
   "outputs": [],
   "source": [
    "random.seed(70)"
   ]
  },
  {
   "cell_type": "code",
   "execution_count": 4,
   "metadata": {},
   "outputs": [],
   "source": [
    "with open(\"../Corpus/rt-polarity.pos\", \"rb\") as pos, open(\"../Corpus/rt-polarity.neg\", \"rb\") as neg:\n",
    "    sentiment_lines = []\n",
    "    sentiment_lines.extend([b\"+1 \" + pos_line for pos_line in pos])\n",
    "    sentiment_lines.extend([b\"-1 \" + neg_line for neg_line in neg])\n",
    "    random.shuffle(sentiment_lines)\n",
    "    with open(\"rt-polarity.sentiment\", \"wb\") as sentiment:\n",
    "        for sentiment_line in sentiment_lines:\n",
    "            sentiment.write(sentiment_line)"
   ]
  },
  {
   "cell_type": "code",
   "execution_count": 5,
   "metadata": {},
   "outputs": [
    {
     "name": "stdout",
     "output_type": "stream",
     "text": [
      "+1 passions , obsessions , and loneliest dark spots are pushed to their most virtuous limits , lending the narrative an unusually surreal tone . \r\n",
      "+1 it is a kickass , dense sci-fi action thriller hybrid that delivers and then some . i haven't seen one in so long , no wonder i didn't recognize it at first . \r\n",
      "-1 the film takes too long getting to the good stuff , then takes too long figuring out what to do next . \r\n",
      "+1 leguizamo and jones are both excellent and the rest of the cast is uniformly superb . \r\n",
      "+1 if s&m seems like a strange route to true love , maybe it is , but it's to this film's ( and its makers' ) credit that we believe that that's exactly what these two people need to find each other -- and themselves . \r\n",
      "-1 a mediocre exercise in target demographics , unaware that it's the butt of its own joke . \r\n",
      "+1 if you thought tom hanks was just an ordinary big-screen star , wait until you've seen him eight stories tall . \r\n",
      "-1 the overall feel is not unlike watching a glorified episode of \" 7th heaven . \" \r\n",
      "-1 it's so crammed with scenes and vistas and pretty moments that it's left a few crucial things out , like character development and coherence . \r\n",
      "+1 remarkable for its excellent storytelling , its economical , compressed characterisations and for its profound humanity , it's an adventure story and history lesson all in one . \r\n"
     ]
    }
   ],
   "source": [
    "!head -10 rt-polarity.sentiment"
   ]
  },
  {
   "cell_type": "markdown",
   "metadata": {},
   "source": [
    "## 71. ストップワード\n",
    "英語のストップワードのリスト（ストップリスト）を適当に作成せよ．さらに，引数に与えられた単語（文字列）がストップリストに含まれている場合は真，それ以外は偽を返す関数を実装せよ．さらに，その関数に対するテストを記述せよ．"
   ]
  },
  {
   "cell_type": "code",
   "execution_count": 6,
   "metadata": {},
   "outputs": [],
   "source": [
    "from sklearn.feature_extraction.text import ENGLISH_STOP_WORDS"
   ]
  },
  {
   "cell_type": "code",
   "execution_count": 7,
   "metadata": {},
   "outputs": [],
   "source": [
    "stop_words = list(ENGLISH_STOP_WORDS)"
   ]
  },
  {
   "cell_type": "code",
   "execution_count": 8,
   "metadata": {},
   "outputs": [
    {
     "data": {
      "text/plain": [
       "['further',\n",
       " 'never',\n",
       " 'fifteen',\n",
       " 'else',\n",
       " 'two',\n",
       " 'such',\n",
       " 'would',\n",
       " 'less',\n",
       " 'ever',\n",
       " 'un']"
      ]
     },
     "execution_count": 8,
     "metadata": {},
     "output_type": "execute_result"
    }
   ],
   "source": [
    "#stop_words\n",
    "stop_words[:10]"
   ]
  },
  {
   "cell_type": "code",
   "execution_count": 9,
   "metadata": {},
   "outputs": [],
   "source": [
    "def check_stop_words(word: str):\n",
    "    return word in stop_words"
   ]
  },
  {
   "cell_type": "code",
   "execution_count": 10,
   "metadata": {},
   "outputs": [
    {
     "name": "stdout",
     "output_type": "stream",
     "text": [
      "we : True\n",
      "nlp : False\n"
     ]
    }
   ],
   "source": [
    "print(\"we : %s\" % check_stop_words(\"we\"))\n",
    "print(\"nlp : %s\" % check_stop_words(\"nlp\"))"
   ]
  },
  {
   "cell_type": "markdown",
   "metadata": {},
   "source": [
    "## 72. 素性抽出\n",
    "極性分析に有用そうな素性を各自で設計し，学習データから素性を抽出せよ．素性としては，レビューからストップワードを除去し，各単語をステミング処理したものが最低限のベースラインとなるであろう．"
   ]
  },
  {
   "cell_type": "code",
   "execution_count": 11,
   "metadata": {},
   "outputs": [],
   "source": [
    "from nltk.stem.porter import PorterStemmer"
   ]
  },
  {
   "cell_type": "code",
   "execution_count": 12,
   "metadata": {},
   "outputs": [],
   "source": [
    "labels = []\n",
    "lines = []\n",
    "features = []\n",
    "porter = PorterStemmer()\n",
    "\n",
    "# 文字化けによるエンコーディングエラー時は、その文字を無視\n",
    "with open(\"rt-polarity.sentiment\", errors=\"ignore\") as sentiment:\n",
    "    for sentiment_line in sentiment:\n",
    "        label, line, stem_words = int(sentiment_line[0:2]), sentiment_line[3:], []\n",
    "\n",
    "        for word in line.split():\n",
    "            if not check_stop_words(word):\n",
    "                stem_words.append(porter.stem(word))\n",
    "        if len(stem_words) == 0:\n",
    "            continue\n",
    "\n",
    "        labels.append(label)\n",
    "        lines.append(line)\n",
    "        features.append(\" \".join(stem_words))"
   ]
  },
  {
   "cell_type": "code",
   "execution_count": 13,
   "metadata": {},
   "outputs": [
    {
     "data": {
      "text/plain": [
       "['passion , obsess , loneliest dark spot push virtuou limit , lend narr unusu surreal tone .',\n",
       " \"kickass , dens sci-fi action thriller hybrid deliv . haven't seen long , wonder didn't recogn .\",\n",
       " 'film take long get good stuff , take long figur .',\n",
       " 'leguizamo jone excel rest cast uniformli superb .',\n",
       " \"s&m like strang rout true love , mayb , it' film' ( makers' ) credit believ that' exactli peopl need -- .\",\n",
       " \"mediocr exercis target demograph , unawar it' butt joke .\",\n",
       " \"thought tom hank just ordinari big-screen star , wait you'v seen stori tall .\",\n",
       " 'overal feel unlik watch glorifi episod \" 7th heaven . \"',\n",
       " \"it' cram scene vista pretti moment it' left crucial thing , like charact develop coher .\",\n",
       " \"remark excel storytel , econom , compress characteris profound human , it' adventur stori histori lesson .\"]"
      ]
     },
     "execution_count": 13,
     "metadata": {},
     "output_type": "execute_result"
    }
   ],
   "source": [
    "#features\n",
    "features[:10]"
   ]
  },
  {
   "cell_type": "code",
   "execution_count": 14,
   "metadata": {},
   "outputs": [
    {
     "data": {
      "text/plain": [
       "[1, 1, -1, 1, 1, -1, 1, -1, -1, 1]"
      ]
     },
     "execution_count": 14,
     "metadata": {},
     "output_type": "execute_result"
    }
   ],
   "source": [
    "#labels\n",
    "labels[:10]"
   ]
  },
  {
   "cell_type": "markdown",
   "metadata": {},
   "source": [
    "## 73. 学習\n",
    "72で抽出した素性を用いて，ロジスティック回帰モデルを学習せよ．"
   ]
  },
  {
   "cell_type": "code",
   "execution_count": 15,
   "metadata": {},
   "outputs": [],
   "source": [
    "import numpy as np\n",
    "from sklearn.feature_extraction.text import TfidfVectorizer\n",
    "from sklearn.linear_model import LogisticRegression"
   ]
  },
  {
   "cell_type": "code",
   "execution_count": 16,
   "metadata": {},
   "outputs": [
    {
     "data": {
      "text/plain": [
       "<10662x13296 sparse matrix of type '<class 'numpy.float64'>'\n",
       "\twith 106372 stored elements in Compressed Sparse Row format>"
      ]
     },
     "execution_count": 16,
     "metadata": {},
     "output_type": "execute_result"
    }
   ],
   "source": [
    "# ここでは、tf-idfによるベクトル化により、コーパスから学習データを作成\n",
    "tf_idf = TfidfVectorizer().fit(features)\n",
    "X = tf_idf.transform(features)\n",
    "X"
   ]
  },
  {
   "cell_type": "code",
   "execution_count": 17,
   "metadata": {},
   "outputs": [
    {
     "data": {
      "text/plain": [
       "10662"
      ]
     },
     "execution_count": 17,
     "metadata": {},
     "output_type": "execute_result"
    }
   ],
   "source": [
    "y = np.array(labels)\n",
    "y.size"
   ]
  },
  {
   "cell_type": "code",
   "execution_count": 18,
   "metadata": {},
   "outputs": [
    {
     "data": {
      "text/plain": [
       "LogisticRegression(C=1.0, class_weight=None, dual=False, fit_intercept=True,\n",
       "                   intercept_scaling=1, l1_ratio=None, max_iter=100,\n",
       "                   multi_class='auto', n_jobs=None, penalty='l2',\n",
       "                   random_state=73, solver='lbfgs', tol=0.0001, verbose=0,\n",
       "                   warm_start=False)"
      ]
     },
     "execution_count": 18,
     "metadata": {},
     "output_type": "execute_result"
    }
   ],
   "source": [
    "model_73 = LogisticRegression(random_state=73)\n",
    "model_73.fit(X, y)"
   ]
  },
  {
   "cell_type": "code",
   "execution_count": 19,
   "metadata": {},
   "outputs": [
    {
     "data": {
      "text/plain": [
       "0.881541924592009"
      ]
     },
     "execution_count": 19,
     "metadata": {},
     "output_type": "execute_result"
    }
   ],
   "source": [
    "model_73.score(X, y)"
   ]
  },
  {
   "cell_type": "markdown",
   "metadata": {},
   "source": [
    "## 74. 予測\n",
    "73で学習したロジスティック回帰モデルを用い，与えられた文の極性ラベル（正例なら\"+1\"，負例なら\"-1\"）と，その予測確率を計算するプログラムを実装せよ．"
   ]
  },
  {
   "cell_type": "code",
   "execution_count": 20,
   "metadata": {},
   "outputs": [
    {
     "name": "stdout",
     "output_type": "stream",
     "text": [
      "passions , obsessions , and loneliest dark spots are pushed to their most virtuous limits , lending the narrative an unusually surreal tone . \n",
      "-> Label:+1, Predict:+1, Probability:0.687160\n",
      "\n",
      "it is a kickass , dense sci-fi action thriller hybrid that delivers and then some . i haven't seen one in so long , no wonder i didn't recognize it at first . \n",
      "-> Label:+1, Predict:-1, Probability:0.526148\n",
      "\n",
      "the film takes too long getting to the good stuff , then takes too long figuring out what to do next . \n",
      "-> Label:-1, Predict:-1, Probability:0.561616\n",
      "\n",
      "leguizamo and jones are both excellent and the rest of the cast is uniformly superb . \n",
      "-> Label:+1, Predict:+1, Probability:0.618260\n",
      "\n",
      "if s&m seems like a strange route to true love , maybe it is , but it's to this film's ( and its makers' ) credit that we believe that that's exactly what these two people need to find each other -- and themselves . \n",
      "-> Label:+1, Predict:+1, Probability:0.688766\n",
      "\n",
      "a mediocre exercise in target demographics , unaware that it's the butt of its own joke . \n",
      "-> Label:-1, Predict:-1, Probability:0.935489\n",
      "\n",
      "if you thought tom hanks was just an ordinary big-screen star , wait until you've seen him eight stories tall . \n",
      "-> Label:+1, Predict:+1, Probability:0.589269\n",
      "\n",
      "the overall feel is not unlike watching a glorified episode of \" 7th heaven . \" \n",
      "-> Label:-1, Predict:-1, Probability:0.761696\n",
      "\n",
      "it's so crammed with scenes and vistas and pretty moments that it's left a few crucial things out , like character development and coherence . \n",
      "-> Label:-1, Predict:-1, Probability:0.778911\n",
      "\n",
      "remarkable for its excellent storytelling , its economical , compressed characterisations and for its profound humanity , it's an adventure story and history lesson all in one . \n",
      "-> Label:+1, Predict:+1, Probability:0.890254\n",
      "\n"
     ]
    }
   ],
   "source": [
    "#for i in range(len(lines)):\n",
    "for i in range(10):\n",
    "    line = lines[i]\n",
    "    label = \"-1\" if labels[i] == -1 else \"+1\"\n",
    "    pred = \"-1\" if model_73.predict(X[i]) == -1 else \"+1\"\n",
    "    probs = model_73.predict_proba(X[i])[0]\n",
    "    prob = probs[0] if pred == \"-1\" else probs[1]\n",
    "\n",
    "    args = (line, label, pred, prob)\n",
    "    print(\"%s-> Label:%s, Predict:%s, Probability:%f\" % args)\n",
    "    print()"
   ]
  },
  {
   "cell_type": "markdown",
   "metadata": {},
   "source": [
    "## 75. 素性の重み\n",
    "73で学習したロジスティック回帰モデルの中で，重みの高い素性トップ10と，重みの低い素性トップ10を確認せよ．"
   ]
  },
  {
   "cell_type": "code",
   "execution_count": 21,
   "metadata": {},
   "outputs": [
    {
     "data": {
      "text/plain": [
       "(13296,)"
      ]
     },
     "execution_count": 21,
     "metadata": {},
     "output_type": "execute_result"
    }
   ],
   "source": [
    "indices = np.argsort(model_73.coef_[0])\n",
    "indices.shape"
   ]
  },
  {
   "cell_type": "code",
   "execution_count": 22,
   "metadata": {},
   "outputs": [
    {
     "name": "stdout",
     "output_type": "stream",
     "text": [
      "[Best 10 Features]\n",
      "No.1\t: beauti\t(coef=3.088591)\n",
      "No.2\t: perform\t(coef=2.529640)\n",
      "No.3\t: enjoy\t(coef=2.452630)\n",
      "No.4\t: solid\t(coef=2.319076)\n",
      "No.5\t: entertain\t(coef=2.318588)\n",
      "No.6\t: heart\t(coef=2.315182)\n",
      "No.7\t: fun\t(coef=2.315047)\n",
      "No.8\t: best\t(coef=2.280014)\n",
      "No.9\t: cinema\t(coef=2.245044)\n",
      "No.10\t: engross\t(coef=2.237097)\n"
     ]
    }
   ],
   "source": [
    "print(\"[Best 10 Features]\")\n",
    "for i in range(-1, -11, -1):\n",
    "    best_idx = indices[i]\n",
    "    best_feature = [k for k, v in tf_idf.vocabulary_.items() if v == best_idx]\n",
    "\n",
    "    args = (-i, best_feature[0], model_73.coef_[0][best_idx])\n",
    "    print(\"No.%s\\t: %s\\t(coef=%f)\" % args)"
   ]
  },
  {
   "cell_type": "code",
   "execution_count": 23,
   "metadata": {},
   "outputs": [
    {
     "name": "stdout",
     "output_type": "stream",
     "text": [
      "[Worst 10 Features]\n",
      "No.1\t: bore\t(coef=-3.396291)\n",
      "No.2\t: bad\t(coef=-3.219395)\n",
      "No.3\t: dull\t(coef=-3.081518)\n",
      "No.4\t: lack\t(coef=-2.600852)\n",
      "No.5\t: worst\t(coef=-2.562439)\n",
      "No.6\t: fail\t(coef=-2.535151)\n",
      "No.7\t: joke\t(coef=-2.249139)\n",
      "No.8\t: thing\t(coef=-2.115947)\n",
      "No.9\t: mediocr\t(coef=-2.111887)\n",
      "No.10\t: wast\t(coef=-2.092020)\n"
     ]
    }
   ],
   "source": [
    "print(\"[Worst 10 Features]\")\n",
    "for i in range(10):\n",
    "    worst_idx = indices[i]\n",
    "    worst_feature = [k for k, v in tf_idf.vocabulary_.items() if v == worst_idx]\n",
    "\n",
    "    args = (i+1, worst_feature[0], model_73.coef_[0][worst_idx])\n",
    "    print(\"No.%s\\t: %s\\t(coef=%f)\" % args)"
   ]
  },
  {
   "cell_type": "markdown",
   "metadata": {},
   "source": [
    "## 76. ラベル付け\n",
    "学習データに対してロジスティック回帰モデルを適用し，正解のラベル，予測されたラベル，予測確率をタブ区切り形式で出力せよ．"
   ]
  },
  {
   "cell_type": "code",
   "execution_count": 24,
   "metadata": {},
   "outputs": [],
   "source": [
    "with open(\"LogisticRegression_76.log\", \"w\") as f:\n",
    "    for i in range(len(lines)):\n",
    "        pred = model_73.predict(X[i])\n",
    "        probs = model_73.predict_proba(X[i])[0]\n",
    "        prob = probs[0] if pred == -1 else probs[1]\n",
    "\n",
    "        args = (labels[i], pred, prob)\n",
    "        f.write(\"%d\\t%d\\t%f\\n\" % args)"
   ]
  },
  {
   "cell_type": "code",
   "execution_count": 25,
   "metadata": {},
   "outputs": [
    {
     "name": "stdout",
     "output_type": "stream",
     "text": [
      "1\t1\t0.687160\r\n",
      "1\t-1\t0.526148\r\n",
      "-1\t-1\t0.561616\r\n",
      "1\t1\t0.618260\r\n",
      "1\t1\t0.688766\r\n",
      "-1\t-1\t0.935489\r\n",
      "1\t1\t0.589269\r\n",
      "-1\t-1\t0.761696\r\n",
      "-1\t-1\t0.778911\r\n",
      "1\t1\t0.890254\r\n"
     ]
    }
   ],
   "source": [
    "!head -10 LogisticRegression_76.log"
   ]
  },
  {
   "cell_type": "markdown",
   "metadata": {},
   "source": [
    "## 77. 正解率の計測\n",
    "76の出力を受け取り，予測の正解率，正例に関する適合率，再現率，F1スコアを求めるプログラムを作成せよ．"
   ]
  },
  {
   "cell_type": "code",
   "execution_count": 26,
   "metadata": {},
   "outputs": [],
   "source": [
    "from sklearn.metrics import accuracy_score, precision_score, recall_score, f1_score"
   ]
  },
  {
   "cell_type": "code",
   "execution_count": 27,
   "metadata": {},
   "outputs": [
    {
     "name": "stdout",
     "output_type": "stream",
     "text": [
      "Accuracy Score : 0.881542\n",
      "Precision Score : 0.885081\n",
      "Recall Score : 0.876946\n",
      "F1 Score : 0.880995\n"
     ]
    }
   ],
   "source": [
    "with open(\"LogisticRegression_76.log\") as f:\n",
    "    y_true, y_pred = [], []\n",
    "    for line in f:\n",
    "        label, pred = line.split(\"\\t\")[0:2]\n",
    "        y_true.append(int(label))\n",
    "        y_pred.append(int(pred))\n",
    "\n",
    "    print(\"Accuracy Score : %f\" % accuracy_score(y_true, y_pred))\n",
    "    print(\"Precision Score : %f\" % precision_score(y_true, y_pred))\n",
    "    print(\"Recall Score : %f\" % recall_score(y_true, y_pred))\n",
    "    print(\"F1 Score : %f\" % f1_score(y_true, y_pred))"
   ]
  },
  {
   "cell_type": "markdown",
   "metadata": {},
   "source": [
    "## 78. 5分割交差検定\n",
    "76-77の実験では，学習に用いた事例を評価にも用いたため，正当な評価とは言えない．すなわち，分類器が訓練事例を丸暗記する際の性能を評価しており，モデルの汎化性能を測定していない．そこで，5分割交差検定により，極性分類の正解率，適合率，再現率，F1スコアを求めよ．"
   ]
  },
  {
   "cell_type": "code",
   "execution_count": 28,
   "metadata": {},
   "outputs": [],
   "source": [
    "from sklearn.model_selection import KFold"
   ]
  },
  {
   "cell_type": "code",
   "execution_count": 29,
   "metadata": {},
   "outputs": [
    {
     "name": "stdout",
     "output_type": "stream",
     "text": [
      "[1/5]\n",
      "Accuracy Score : 0.753399\n",
      "Precision Score : 0.757986\n",
      "Recall Score : 0.739377\n",
      "F1 Score : 0.748566\n",
      "\n",
      "[2/5]\n",
      "Accuracy Score : 0.755274\n",
      "Precision Score : 0.751156\n",
      "Recall Score : 0.762441\n",
      "F1 Score : 0.756757\n",
      "\n",
      "[3/5]\n",
      "Accuracy Score : 0.750469\n",
      "Precision Score : 0.745042\n",
      "Recall Score : 0.750714\n",
      "F1 Score : 0.747867\n",
      "\n",
      "[4/5]\n",
      "Accuracy Score : 0.761726\n",
      "Precision Score : 0.774879\n",
      "Recall Score : 0.744661\n",
      "F1 Score : 0.759470\n",
      "\n",
      "[5/5]\n",
      "Accuracy Score : 0.763133\n",
      "Precision Score : 0.769231\n",
      "Recall Score : 0.759963\n",
      "F1 Score : 0.764569\n",
      "\n"
     ]
    }
   ],
   "source": [
    "threshold = 0.5\n",
    "kf = KFold(n_splits=5, shuffle=True, random_state=78)\n",
    "\n",
    "for i, (train_indices, valid_indices) in enumerate(kf.split(X)):\n",
    "    X_train, X_valid, y_train, y_valid = X[train_indices], X[valid_indices], y[train_indices], y[valid_indices]\n",
    "\n",
    "    model_78 = LogisticRegression(random_state=78)\n",
    "    model_78.fit(X_train, y_train)\n",
    "\n",
    "    y_pred = []\n",
    "    for X_valid_inner in X_valid:\n",
    "        prob_neg = model_78.predict_proba(X_valid_inner)[0][0]\n",
    "        pred = -1 if prob_neg > threshold else 1\n",
    "        y_pred.append(pred)\n",
    "\n",
    "    print(\"[%d/5]\" % (i+1))\n",
    "    print(\"Accuracy Score : %f\" % accuracy_score(y_valid, y_pred))\n",
    "    print(\"Precision Score : %f\" % precision_score(y_valid, y_pred))\n",
    "    print(\"Recall Score : %f\" % recall_score(y_valid, y_pred))\n",
    "    print(\"F1 Score : %f\" % f1_score(y_valid, y_pred))\n",
    "    print()"
   ]
  },
  {
   "cell_type": "markdown",
   "metadata": {},
   "source": [
    "## 79. 適合率-再現率グラフの描画\n",
    "ロジスティック回帰モデルの分類の閾値を変化させることで，適合率-再現率グラフを描画せよ．"
   ]
  },
  {
   "cell_type": "code",
   "execution_count": 30,
   "metadata": {},
   "outputs": [],
   "source": [
    "import matplotlib.pyplot as plt\n",
    "import pandas as pd\n",
    "import seaborn as sns"
   ]
  },
  {
   "cell_type": "code",
   "execution_count": 31,
   "metadata": {},
   "outputs": [],
   "source": [
    "%matplotlib inline"
   ]
  },
  {
   "cell_type": "code",
   "execution_count": 32,
   "metadata": {},
   "outputs": [],
   "source": [
    "sns.set(style=\"darkgrid\", context=\"notebook\", palette=\"muted\")"
   ]
  },
  {
   "cell_type": "code",
   "execution_count": 33,
   "metadata": {},
   "outputs": [
    {
     "name": "stdout",
     "output_type": "stream",
     "text": [
      "[1/20]\tthreshold=0.100000\n",
      "Recall Scores\t: [0.013605442176870748, 0.01403180542563143, 0.014598540145985401, 0.02022058823529412, 0.015252621544327931]\t(Mean=0.015542)\n",
      "Precision Scores\t: [1.0, 1.0, 1.0, 1.0, 1.0]\t(Mean=1.000000)\n",
      "[2/20]\tthreshold=0.142105\n",
      "Recall Scores\t: [0.05157593123209169, 0.044444444444444446, 0.04657794676806084, 0.0457516339869281, 0.04625346901017576]\t(Mean=0.046921)\n",
      "Precision Scores\t: [0.9818181818181818, 0.9795918367346939, 1.0, 0.9607843137254902, 0.9803921568627451]\t(Mean=0.980517)\n",
      "[3/20]\tthreshold=0.184211\n",
      "Recall Scores\t: [0.09951690821256039, 0.10546139359698682, 0.07699194270367055, 0.1016949152542373, 0.07867298578199051]\t(Mean=0.092468)\n",
      "Precision Scores\t: [0.9809523809523809, 0.9911504424778761, 0.9662921348314607, 0.9642857142857143, 0.9880952380952381]\t(Mean=0.978155)\n",
      "[4/20]\tthreshold=0.226316\n",
      "Recall Scores\t: [0.1537053979871912, 0.1577490774907749, 0.17238095238095238, 0.1665089877010407, 0.15759312320916904]\t(Mean=0.161588)\n",
      "Precision Scores\t: [0.9655172413793104, 0.9144385026737968, 0.9731182795698925, 0.9617486338797814, 0.9821428571428571]\t(Mean=0.959393)\n",
      "[5/20]\tthreshold=0.268421\n",
      "Recall Scores\t: [0.24027237354085604, 0.27413479052823314, 0.21709894332372717, 0.23176361957525393, 0.2488436632747456]\t(Mean=0.242423)\n",
      "Precision Scores\t: [0.9356060606060606, 0.9347826086956522, 0.9535864978902954, 0.9261992619926199, 0.9340277777777778]\t(Mean=0.936840)\n",
      "[6/20]\tthreshold=0.310526\n",
      "Recall Scores\t: [0.33925233644859815, 0.3414405986903648, 0.33555767397521447, 0.32903225806451614, 0.33175803402646503]\t(Mean=0.335408)\n",
      "Precision Scores\t: [0.9404145077720207, 0.9125, 0.9119170984455959, 0.9345549738219895, 0.9164490861618799]\t(Mean=0.923167)\n",
      "[7/20]\tthreshold=0.352632\n",
      "Recall Scores\t: [0.43732057416267944, 0.4281742354031511, 0.42557077625570777, 0.4248302618816683, 0.4440333024976873]\t(Mean=0.431986)\n",
      "Precision Scores\t: [0.892578125, 0.8651685393258427, 0.8961538461538462, 0.8673267326732673, 0.8856088560885609]\t(Mean=0.881367)\n",
      "[8/20]\tthreshold=0.394737\n",
      "Recall Scores\t: [0.5360230547550432, 0.5636704119850188, 0.5677966101694916, 0.5235457063711911, 0.489322191272052]\t(Mean=0.536072)\n",
      "Precision Scores\t: [0.8315946348733234, 0.8801169590643275, 0.8676258992805755, 0.8656488549618321, 0.851373182552504]\t(Mean=0.859272)\n",
      "[9/20]\tthreshold=0.436842\n",
      "Recall Scores\t: [0.6174496644295302, 0.6482364156339371, 0.622202327663384, 0.6376673040152964, 0.629182156133829]\t(Mean=0.630948)\n",
      "Precision Scores\t: [0.8214285714285714, 0.8143712574850299, 0.8244365361803084, 0.8114355231143552, 0.8127250900360145]\t(Mean=0.816879)\n",
      "[10/20]\tthreshold=0.478947\n",
      "Recall Scores\t: [0.7130681818181818, 0.7136237256719185, 0.7055555555555556, 0.7189239332096475, 0.7292870905587668]\t(Mean=0.716092)\n",
      "Precision Scores\t: [0.7660223804679552, 0.7738693467336684, 0.7979057591623037, 0.7773319959879639, 0.7764102564102564]\t(Mean=0.778308)\n",
      "[11/20]\tthreshold=0.521053\n",
      "Recall Scores\t: [0.795688847235239, 0.7950664136622391, 0.8068391866913124, 0.7657992565055762, 0.7899239543726235]\t(Mean=0.790664)\n",
      "Precision Scores\t: [0.7237851662404092, 0.7475468331846565, 0.747431506849315, 0.7490909090909091, 0.7399821905609973]\t(Mean=0.741567)\n",
      "[12/20]\tthreshold=0.563158\n",
      "Recall Scores\t: [0.8589371980676328, 0.8522727272727273, 0.8487394957983193, 0.8663551401869158, 0.83803457688808]\t(Mean=0.852868)\n",
      "Precision Scores\t: [0.6838461538461539, 0.6802721088435374, 0.7096018735362998, 0.7103448275862069, 0.7111969111969112]\t(Mean=0.699052)\n",
      "[13/20]\tthreshold=0.605263\n",
      "Recall Scores\t: [0.9107312440645774, 0.9128787878787878, 0.9022346368715084, 0.8895985401459854, 0.905893536121673]\t(Mean=0.904267)\n",
      "Precision Scores\t: [0.6466621712744437, 0.6611796982167353, 0.6609822646657572, 0.6696428571428571, 0.656788421778084]\t(Mean=0.659051)\n",
      "[14/20]\tthreshold=0.647368\n",
      "Recall Scores\t: [0.9536231884057971, 0.9232851985559567, 0.9227144203581527, 0.9410138248847926, 0.9376199616122841]\t(Mean=0.935651)\n",
      "Precision Scores\t: [0.5952955367913149, 0.6409774436090225, 0.6164987405541562, 0.6267648864333947, 0.6091022443890274]\t(Mean=0.617728)\n",
      "[15/20]\tthreshold=0.689474\n",
      "Recall Scores\t: [0.9636533084808947, 0.9637058261700095, 0.9634263715110684, 0.9636533084808947, 0.9535941765241128]\t(Mean=0.961607)\n",
      "Precision Scores\t: [0.5966532025389498, 0.5762421473443746, 0.5700455580865603, 0.5805727119595733, 0.6043829296424452]\t(Mean=0.585579)\n",
      "[16/20]\tthreshold=0.731579\n",
      "Recall Scores\t: [0.9801136363636364, 0.9765698219306467, 0.9813953488372092, 0.9761029411764706, 0.9837320574162679]\t(Mean=0.979583)\n",
      "Precision Scores\t: [0.5543652919121586, 0.5554371002132196, 0.5626666666666666, 0.5718901453957996, 0.5538793103448276]\t(Mean=0.559648)\n",
      "[17/20]\tthreshold=0.773684\n",
      "Recall Scores\t: [0.9914448669201521, 0.9906976744186047, 0.9906542056074766, 0.9866666666666667, 0.9898523985239852]\t(Mean=0.989863)\n",
      "Precision Scores\t: [0.5310590631364562, 0.5414336553126589, 0.5383443372270188, 0.5240263024785028, 0.5530927835051547]\t(Mean=0.537591)\n",
      "[18/20]\tthreshold=0.815789\n",
      "Recall Scores\t: [0.9914853358561968, 0.9943019943019943, 0.994413407821229, 0.9990521327014218, 0.9945054945054945]\t(Mean=0.994752)\n",
      "Precision Scores\t: [0.5134737873591376, 0.5139911634756995, 0.523786169691025, 0.5187007874015748, 0.5326140264835704]\t(Mean=0.520513)\n",
      "[19/20]\tthreshold=0.857895\n",
      "Recall Scores\t: [0.9980638915779284, 0.9990338164251208, 0.9990610328638497, 0.9972401103955841, 1.0]\t(Mean=0.998680)\n",
      "Precision Scores\t: [0.49212410501193316, 0.4956855225311601, 0.5081184336198663, 0.5204032645223235, 0.531578947368421]\t(Mean=0.509582)\n",
      "[20/20]\tthreshold=0.900000\n",
      "Recall Scores\t: [1.0, 1.0, 1.0, 0.9990867579908675, 0.9990393852065321]\t(Mean=0.999625)\n",
      "Precision Scores\t: [0.510879848628193, 0.49056603773584906, 0.5089962121212122, 0.5179924242424242, 0.491725768321513]\t(Mean=0.504032)\n"
     ]
    }
   ],
   "source": [
    "thresholds = np.linspace(0.1, 0.9, 20)\n",
    "recall_means = []\n",
    "precision_means = []\n",
    "\n",
    "for i, threshold in enumerate(thresholds):\n",
    "    kf = KFold(n_splits=5, shuffle=True, random_state=79+i)\n",
    "    precisions = []\n",
    "    recalls = []\n",
    "\n",
    "    for j, (train_indices, valid_indices) in enumerate(kf.split(X)):\n",
    "        X_train, X_valid, y_train, y_valid = X[train_indices], X[valid_indices], y[train_indices], y[valid_indices]\n",
    "\n",
    "        model_79 = LogisticRegression(random_state=79+5*i+j)\n",
    "        model_79.fit(X_train, y_train)\n",
    "\n",
    "        y_pred = []\n",
    "        for X_valid_inner in X_valid:\n",
    "            prob_neg = model_79.predict_proba(X_valid_inner)[0][0]\n",
    "            pred = -1 if prob_neg > threshold else 1\n",
    "            y_pred.append(pred)\n",
    "\n",
    "        recalls.append(recall_score(y_valid, y_pred))\n",
    "        precisions.append(precision_score(y_valid, y_pred))\n",
    "\n",
    "    recall_mean = sum(recalls) / 5.0\n",
    "    recall_means.append(recall_mean)\n",
    "    precision_mean = sum(precisions) / 5.0\n",
    "    precision_means.append(precision_mean)\n",
    "\n",
    "    print(\"[%d/%d]\\tthreshold=%f\" % (i+1, 20, threshold))\n",
    "    print(\"Recall Scores\\t: %s\\t(Mean=%f)\" % (recalls, recall_mean))\n",
    "    print(\"Precision Scores\\t: %s\\t(Mean=%f)\" % (precisions, precision_mean))"
   ]
  },
  {
   "cell_type": "code",
   "execution_count": 34,
   "metadata": {},
   "outputs": [],
   "source": [
    "data_79 = pd.DataFrame({\n",
    "    \"平均再現率\": recall_means,\n",
    "    \"平均適合率\": precision_means,\n",
    "})"
   ]
  },
  {
   "cell_type": "code",
   "execution_count": 35,
   "metadata": {},
   "outputs": [
    {
     "data": {
      "text/plain": [
       "<seaborn.axisgrid.FacetGrid at 0x7f95d1235438>"
      ]
     },
     "execution_count": 35,
     "metadata": {},
     "output_type": "execute_result"
    },
    {
     "data": {
      "image/png": "[encoded data removed]",
      "text/plain": [
       "<Figure size 360x360 with 1 Axes>"
      ]
     },
     "metadata": {},
     "output_type": "display_data"
    }
   ],
   "source": [
    "sns.relplot(x=\"平均再現率\", y=\"平均適合率\", data=data_79, kind=\"line\")"
   ]
  }
 ],
 "metadata": {
  "kernelspec": {
   "display_name": "Python 3",
   "language": "python",
   "name": "python3"
  },
  "language_info": {
   "codemirror_mode": {
    "name": "ipython",
    "version": 3
   },
   "file_extension": ".py",
   "mimetype": "text/x-python",
   "name": "python",
   "nbconvert_exporter": "python",
   "pygments_lexer": "ipython3",
   "version": "3.6.9"
  }
 },
 "nbformat": 4,
 "nbformat_minor": 4
}
