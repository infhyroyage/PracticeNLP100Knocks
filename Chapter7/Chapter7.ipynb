{
 "cells": [
  {
   "cell_type": "markdown",
   "metadata": {},
   "source": [
    "# [第7章: データベース](http://www.cl.ecei.tohoku.ac.jp/nlp100/#ch7)\n",
    "[artist.json.gz](http://www.cl.ecei.tohoku.ac.jp/nlp100/data/artist.json.gz)は，オープンな音楽データベース[MusicBrainz](https://musicbrainz.org/)の中で，アーティストに関するものをJSON形式に変換し，gzip形式で圧縮したファイルである．このファイルには，1アーティストに関する情報が1行にJSON形式で格納されている．JSON形式の概要は以下の通りである．\n",
    "\n",
    "| フィールド | 型 | 内容 | 例 |\n",
    "| :--------- | :- | :--- | :- |\n",
    "| id | ユニーク識別子 | 整数 | 20660 |\n",
    "| gid | グローバル識別子 | 文字列 | \"ecf9f3a3-35e9-4c58-acaa-e707fba45060\" |\n",
    "| name | アーティスト名 | 文字列 | \"Oasis\" |\n",
    "| sort_name | アーティスト名（辞書順整列用） | 文字列 | \"Oasis\" |\n",
    "| area | 活動場所 | 文字列 | \"United Kingdom\" |\n",
    "| aliases | 別名 | 辞書オブジェクトのリスト |  |\n",
    "| aliases[].name | 別名 | 文字列 | \"オアシス\" |\n",
    "| aliases[].sort_name | 別名（整列用） | 文字列 | \"オアシス\" |\n",
    "| begin | 活動開始日 | 辞書 |  |\n",
    "| begin.year | 活動開始年 | 整数 | 1991 |\n",
    "| begin.month | 活動開始月 | 整数 |  |\n",
    "| begin.date | 活動開始日 | 整数 |  |\n",
    "| end | 活動終了日 | 辞書 |  |\n",
    "| end.year | 活動終了年 | 整数 | 2009 |\n",
    "| end.month | 活動終了月 | 整数 | 8 |\n",
    "| end.date | 活動終了日 | 整数 | 28 |\n",
    "| tags | タグ | 辞書オブジェクトのリスト |  |\n",
    "| tags[].count | タグ付けされた回数 | 整数 | 1 |\n",
    "| tags[].value | タグ内容 | 文字列 | \"rock\" |\n",
    "| rating | レーティング | 辞書オブジェクト |  |\n",
    "| rating.count | レーティングの投票数 | 整数 | 13 |\n",
    "| rating.value | レーティングの値（平均値） | 整数 | 86 |\n",
    "\n",
    "artist.json.gzのデータをKey-Value-Store (KVS) およびドキュメント志向型データベースに格納・検索することを考える．KVSとしては，[LevelDB](http://leveldb.org/)，[Redis](http://redis.io/)，[KyotoCabinet](http://fallabs.com/kyotocabinet/)等を用いよ．ドキュメント志向型データベースとして，[MongoDB](http://www.mongodb.org/)を採用したが，[CouchDB](http://couchdb.apache.org/)や[RethinkDB](http://rethinkdb.com/)等を用いてもよい．"
   ]
  },
  {
   "cell_type": "code",
   "execution_count": 1,
   "metadata": {},
   "outputs": [
    {
     "name": "stdout",
     "output_type": "stream",
     "text": [
      "../Corpus/artist.json.gz\r\n"
     ]
    }
   ],
   "source": [
    "!ls ../Corpus/artist.json.gz"
   ]
  },
  {
   "cell_type": "markdown",
   "metadata": {},
   "source": [
    "## 60. KVSの構築\n",
    "Key-Value-Store (KVS) を用い，アーティスト名（name）から活動場所（area）を検索するためのデータベースを構築せよ．"
   ]
  },
  {
   "cell_type": "code",
   "execution_count": 2,
   "metadata": {},
   "outputs": [],
   "source": [
    "import gzip\n",
    "import json\n",
    "import plyvel"
   ]
  },
  {
   "cell_type": "code",
   "execution_count": 3,
   "metadata": {},
   "outputs": [],
   "source": [
    "db_60 = plyvel.DB(\"artist_60\", create_if_missing=True)"
   ]
  },
  {
   "cell_type": "code",
   "execution_count": 4,
   "metadata": {},
   "outputs": [
    {
     "name": "stdout",
     "output_type": "stream",
     "text": [
      "CPU times: user 7.83 s, sys: 216 ms, total: 8.05 s\n",
      "Wall time: 8.21 s\n"
     ]
    }
   ],
   "source": [
    "%%time\n",
    "with gzip.open(\"../Corpus/artist.json.gz\", mode=\"rt\") as artists_json, db_60.write_batch() as wb_60:\n",
    "    for artist_json in artists_json:\n",
    "        artist = json.loads(artist_json)\n",
    "        if \"name\" not in artist or \"area\" not in artist:\n",
    "            continue\n",
    "        k = artist[\"name\"]\n",
    "        v = artist[\"area\"]\n",
    "        wb_60.put(k.encode(\"utf-8\"), v.encode(\"utf-8\"))"
   ]
  },
  {
   "cell_type": "code",
   "execution_count": 5,
   "metadata": {},
   "outputs": [],
   "source": [
    "db_60.close()"
   ]
  },
  {
   "cell_type": "markdown",
   "metadata": {},
   "source": [
    "## 61. KVSの検索\n",
    "60で構築したデータベースを用い，特定の（指定された）アーティストの活動場所を取得せよ．"
   ]
  },
  {
   "cell_type": "code",
   "execution_count": 6,
   "metadata": {},
   "outputs": [],
   "source": [
    "db_60 = plyvel.DB(\"artist_60\")"
   ]
  },
  {
   "cell_type": "code",
   "execution_count": 7,
   "metadata": {},
   "outputs": [
    {
     "data": {
      "text/plain": [
       "b'United Kingdom'"
      ]
     },
     "execution_count": 7,
     "metadata": {},
     "output_type": "execute_result"
    }
   ],
   "source": [
    "db_60.get(b\"Oasis\")"
   ]
  },
  {
   "cell_type": "code",
   "execution_count": 8,
   "metadata": {},
   "outputs": [],
   "source": [
    "db_60.close()"
   ]
  },
  {
   "cell_type": "markdown",
   "metadata": {},
   "source": [
    "## 62. KVS内の反復処理\n",
    "60で構築したデータベースを用い，活動場所が「Japan」となっているアーティスト数を求めよ．"
   ]
  },
  {
   "cell_type": "code",
   "execution_count": 9,
   "metadata": {},
   "outputs": [],
   "source": [
    "db_60 = plyvel.DB(\"artist_60\")"
   ]
  },
  {
   "cell_type": "code",
   "execution_count": 10,
   "metadata": {},
   "outputs": [
    {
     "data": {
      "text/plain": [
       "22128"
      ]
     },
     "execution_count": 10,
     "metadata": {},
     "output_type": "execute_result"
    }
   ],
   "source": [
    "count = 0\n",
    "for _, v in db_60:\n",
    "    if v == b\"Japan\":\n",
    "        count += 1\n",
    "count"
   ]
  },
  {
   "cell_type": "code",
   "execution_count": 11,
   "metadata": {},
   "outputs": [],
   "source": [
    "db_60.close()"
   ]
  },
  {
   "cell_type": "markdown",
   "metadata": {},
   "source": [
    "## 63. オブジェクトを値に格納したKVS\n",
    "KVSを用い，アーティスト名（name）からタグと被タグ数（タグ付けされた回数）のリストを検索するためのデータベースを構築せよ．さらに，ここで構築したデータベースを用い，アーティスト名からタグと被タグ数を検索せよ．"
   ]
  },
  {
   "cell_type": "markdown",
   "metadata": {},
   "source": [
    "| フィールド | 型 | 内容 | 例 |\n",
    "| :--------- | :- | :--- | :- |\n",
    "| name | アーティスト名 | 文字列 | \"Oasis\" |\n",
    "| tags | タグ | 辞書オブジェクトのリスト |  |\n",
    "| tags[].count | タグ付けされた回数 | 整数 | 1 |\n",
    "| tags[].value | タグ内容 | 文字列 | \"rock\" |"
   ]
  },
  {
   "cell_type": "code",
   "execution_count": 12,
   "metadata": {},
   "outputs": [],
   "source": [
    "db_63 = plyvel.DB(\"artist_63\", create_if_missing=True)"
   ]
  },
  {
   "cell_type": "code",
   "execution_count": 13,
   "metadata": {},
   "outputs": [
    {
     "name": "stdout",
     "output_type": "stream",
     "text": [
      "CPU times: user 7.3 s, sys: 27.5 ms, total: 7.32 s\n",
      "Wall time: 7.37 s\n"
     ]
    }
   ],
   "source": [
    "%%time\n",
    "with gzip.open(\"../Corpus/artist.json.gz\", mode=\"rt\") as artists_json, db_63.write_batch() as wb_63:\n",
    "    i = 0\n",
    "    for artist_json in artists_json:\n",
    "        artist = json.loads(artist_json)\n",
    "        if \"name\" not in artist or \"tags\" not in artist:\n",
    "            continue\n",
    "        k = artist[\"name\"]\n",
    "        v = \"\"\n",
    "        for tag in artist[\"tags\"]:\n",
    "            v += \"%s=%s, \" % (tag[\"value\"], tag[\"count\"])\n",
    "        wb_63.put(k.encode(\"utf-8\"), v[:-2].encode(\"utf-8\"))"
   ]
  },
  {
   "cell_type": "code",
   "execution_count": 14,
   "metadata": {},
   "outputs": [
    {
     "data": {
      "text/plain": [
       "b'polish rock=1, new wave=1'"
      ]
     },
     "execution_count": 14,
     "metadata": {},
     "output_type": "execute_result"
    }
   ],
   "source": [
    "db_63.get(b\"Rezerwat\")"
   ]
  },
  {
   "cell_type": "code",
   "execution_count": 15,
   "metadata": {},
   "outputs": [],
   "source": [
    "db_63.close()"
   ]
  },
  {
   "cell_type": "markdown",
   "metadata": {},
   "source": [
    "## 64. MongoDBの構築\n",
    "アーティスト情報（artist.json.gz）をデータベースに登録せよ．さらに，次のフィールドでインデックスを作成せよ: name, aliases.name, tags.value, rating.value"
   ]
  },
  {
   "cell_type": "code",
   "execution_count": 56,
   "metadata": {},
   "outputs": [],
   "source": [
    "import pymongo"
   ]
  },
  {
   "cell_type": "code",
   "execution_count": 62,
   "metadata": {},
   "outputs": [],
   "source": [
    "db_mongo = pymongo.MongoClient().chapter7\n",
    "artists_mongo = db_mongo.artists"
   ]
  },
  {
   "cell_type": "code",
   "execution_count": 63,
   "metadata": {},
   "outputs": [
    {
     "name": "stdout",
     "output_type": "stream",
     "text": [
      "CPU times: user 24.1 s, sys: 401 ms, total: 24.5 s\n",
      "Wall time: 29.2 s\n"
     ]
    }
   ],
   "source": [
    "%%time\n",
    "with gzip.open(\"../Corpus/artist.json.gz\", mode=\"rt\") as artists_json:\n",
    "    artists = [json.loads(artist_json) for artist_json in artists_json]\n",
    "    artists_mongo.insert_many(artists)"
   ]
  },
  {
   "cell_type": "code",
   "execution_count": 64,
   "metadata": {},
   "outputs": [
    {
     "name": "stdout",
     "output_type": "stream",
     "text": [
      "CPU times: user 3.86 ms, sys: 206 µs, total: 4.06 ms\n",
      "Wall time: 4.71 s\n"
     ]
    },
    {
     "data": {
      "text/plain": [
       "{'_id_': {'v': 2, 'key': [('_id', 1)], 'ns': 'chapter7.artists'},\n",
       " 'name_1_aliases[].name_1_tags[].value_1_rating.value_1': {'v': 2,\n",
       "  'key': [('name', 1),\n",
       "   ('aliases[].name', 1),\n",
       "   ('tags[].value', 1),\n",
       "   ('rating.value', 1)],\n",
       "  'ns': 'chapter7.artists'}}"
      ]
     },
     "execution_count": 64,
     "metadata": {},
     "output_type": "execute_result"
    }
   ],
   "source": [
    "%%time\n",
    "index_64 = [(\"name\", pymongo.ASCENDING),\n",
    "            (\"aliases[].name\", pymongo.ASCENDING),\n",
    "            (\"tags[].value\", pymongo.ASCENDING),\n",
    "            (\"rating.value\", pymongo.ASCENDING)]\n",
    "artists_mongo.create_index(index_64)\n",
    "artists_mongo.index_information()"
   ]
  },
  {
   "cell_type": "markdown",
   "metadata": {},
   "source": [
    "## 65. MongoDBの検索\n",
    "MongoDBのインタラクティブシェルを用いて，\"Queen\"というアーティストに関する情報を取得せよ．さらに，これと同様の処理を行うプログラムを実装せよ．"
   ]
  },
  {
   "cell_type": "code",
   "execution_count": 65,
   "metadata": {},
   "outputs": [
    {
     "name": "stdout",
     "output_type": "stream",
     "text": [
      "[1/3]\n",
      "\t_id\t5e8f3a66d11b16273bde86d0\n",
      "\tname\tQueen\n",
      "\tarea\tJapan\n",
      "\tgender\tFemale\n",
      "\ttags\t[{'count': 1, 'value': 'kamen rider w'}, {'count': 1, 'value': 'related-akb48'}]\n",
      "\tsort_name\tQueen\n",
      "\tended\tTrue\n",
      "\tgid\t420ca290-76c5-41af-999e-564d7c71f1a7\n",
      "\ttype\tCharacter\n",
      "\tid\t701492\n",
      "\taliases\t[{'name': 'Queen', 'sort_name': 'Queen'}]\n",
      "\n",
      "[2/3]\n",
      "\t_id\t5e8f3a68d11b16273be107d4\n",
      "\tended\tTrue\n",
      "\tgid\t5eecaf18-02ec-47af-a4f2-7831db373419\n",
      "\tsort_name\tQueen\n",
      "\tid\t992994\n",
      "\tname\tQueen\n",
      "\n",
      "[3/3]\n",
      "\t_id\t5e8f3a66d11b16273bdf4d7c\n",
      "\trating\t{'count': 24, 'value': 92}\n",
      "\tbegin\t{'date': 27, 'month': 6, 'year': 1970}\n",
      "\tname\tQueen\n",
      "\tarea\tUnited Kingdom\n",
      "\ttags\t[{'count': 2, 'value': 'hard rock'}, {'count': 1, 'value': '70s'}, {'count': 1, 'value': 'queen family'}, {'count': 1, 'value': '90s'}, {'count': 1, 'value': '80s'}, {'count': 1, 'value': 'glam rock'}, {'count': 4, 'value': 'british'}, {'count': 1, 'value': 'english'}, {'count': 2, 'value': 'uk'}, {'count': 1, 'value': 'pop/rock'}, {'count': 1, 'value': 'pop-rock'}, {'count': 1, 'value': 'britannique'}, {'count': 1, 'value': 'classic pop and rock'}, {'count': 1, 'value': 'queen'}, {'count': 1, 'value': 'united kingdom'}, {'count': 1, 'value': 'langham 1 studio bbc'}, {'count': 1, 'value': 'kind of magic'}, {'count': 1, 'value': 'band'}, {'count': 6, 'value': 'rock'}, {'count': 1, 'value': 'platinum'}]\n",
      "\tsort_name\tQueen\n",
      "\tended\tTrue\n",
      "\tgid\t0383dadf-2a4e-4d10-a46a-e9e041da8eb3\n",
      "\ttype\tGroup\n",
      "\tid\t192\n",
      "\taliases\t[{'name': '女王', 'sort_name': '女王'}]\n",
      "\n"
     ]
    }
   ],
   "source": [
    "for i, artists_find in enumerate(artists_mongo.find({\"name\": \"Queen\"})):\n",
    "    print(\"[%d/%d]\" % (i+1, artists_mongo.count_documents({\"name\": \"Queen\"})))\n",
    "    for k, v in artists_find.items():\n",
    "        print(\"\\t%s\\t%s\" % (k, v))\n",
    "    print()"
   ]
  },
  {
   "cell_type": "markdown",
   "metadata": {},
   "source": [
    "## 66. 検索件数の取得\n",
    "MongoDBのインタラクティブシェルを用いて，活動場所が「Japan」となっているアーティスト数を求めよ．"
   ]
  },
  {
   "cell_type": "code",
   "execution_count": 66,
   "metadata": {},
   "outputs": [
    {
     "data": {
      "text/plain": [
       "22821"
      ]
     },
     "execution_count": 66,
     "metadata": {},
     "output_type": "execute_result"
    }
   ],
   "source": [
    "artists_mongo.count_documents({\"area\": \"Japan\"})"
   ]
  },
  {
   "cell_type": "markdown",
   "metadata": {},
   "source": [
    "## 67. 複数のドキュメントの取得\n",
    "特定の（指定した）別名を持つアーティストを検索せよ．"
   ]
  },
  {
   "cell_type": "code",
   "execution_count": 67,
   "metadata": {},
   "outputs": [],
   "source": [
    "def print_aliased_name(name: str):\n",
    "    for i, artists_find in enumerate(artists_mongo.find({\"aliases.name\": name})):\n",
    "        print(\"[%d/%d]\" % (i+1, artists_mongo.count_documents({\"aliases.name\": name})))\n",
    "        for k, v in artists_find.items():\n",
    "            print(\"\\t%s\\t%s\" % (k, v))\n",
    "        print()"
   ]
  },
  {
   "cell_type": "code",
   "execution_count": 68,
   "metadata": {},
   "outputs": [
    {
     "name": "stdout",
     "output_type": "stream",
     "text": [
      "[1/1]\n",
      "\t_id\t5e8f3a66d11b16273bdf728f\n",
      "\trating\t{'count': 13, 'value': 86}\n",
      "\tbegin\t{'year': 1991}\n",
      "\tend\t{'date': 28, 'month': 8, 'year': 2009}\n",
      "\tname\tOasis\n",
      "\tarea\tUnited Kingdom\n",
      "\ttags\t[{'count': 1, 'value': 'rock'}, {'count': 3, 'value': 'britpop'}, {'count': 4, 'value': 'british'}, {'count': 1, 'value': 'uk'}, {'count': 1, 'value': 'britannique'}, {'count': 1, 'value': 'rock and indie'}, {'count': 1, 'value': 'england'}, {'count': 1, 'value': 'manchester'}]\n",
      "\tsort_name\tOasis\n",
      "\tended\tTrue\n",
      "\tgid\t39ab1aed-75e0-4140-bd47-540276886b60\n",
      "\ttype\tGroup\n",
      "\tid\t20660\n",
      "\taliases\t[{'name': 'OASIS', 'sort_name': 'OASIS'}, {'name': 'オアシス', 'sort_name': 'オアシス'}]\n",
      "\n"
     ]
    }
   ],
   "source": [
    "print_aliased_name(\"オアシス\")"
   ]
  },
  {
   "cell_type": "markdown",
   "metadata": {},
   "source": [
    "## 68. ソート\n",
    "\"dance\"というタグを付与されたアーティストの中でレーティングの投票数が多いアーティスト・トップ10を求めよ．"
   ]
  },
  {
   "cell_type": "code",
   "execution_count": 72,
   "metadata": {},
   "outputs": [
    {
     "name": "stdout",
     "output_type": "stream",
     "text": [
      "[1/10]\n",
      "\tname\tMadonna\n",
      "\trating.count\t26\n",
      "\n",
      "[2/10]\n",
      "\tname\tBjörk\n",
      "\trating.count\t23\n",
      "\n",
      "[3/10]\n",
      "\tname\tThe Prodigy\n",
      "\trating.count\t23\n",
      "\n",
      "[4/10]\n",
      "\tname\tRihanna\n",
      "\trating.count\t15\n",
      "\n",
      "[5/10]\n",
      "\tname\tBritney Spears\n",
      "\trating.count\t13\n",
      "\n",
      "[6/10]\n",
      "\tname\tMaroon 5\n",
      "\trating.count\t11\n",
      "\n",
      "[7/10]\n",
      "\tname\tAdam Lambert\n",
      "\trating.count\t7\n",
      "\n",
      "[8/10]\n",
      "\tname\tFatboy Slim\n",
      "\trating.count\t7\n",
      "\n",
      "[9/10]\n",
      "\tname\tBasement Jaxx\n",
      "\trating.count\t6\n",
      "\n",
      "[10/10]\n",
      "\tname\tCornershop\n",
      "\trating.count\t5\n",
      "\n"
     ]
    }
   ],
   "source": [
    "filter_68 = {\"tags.value\": \"dance\", \"rating\": {\"$exists\": \"true\"}}\n",
    "sort_68 = [(\"rating.count\", pymongo.DESCENDING)]\n",
    "cursor_68 = artists_mongo.find(filter_68,\n",
    "                               limit=10,\n",
    "                               sort=sort_68)\n",
    "for i, artists_find in enumerate(cursor_68):\n",
    "    print(\"[%d/10]\" % (i+1))\n",
    "    print(\"\\tname\\t%s\" % artists_find[\"name\"])\n",
    "    print(\"\\trating.count\\t%s\" % artists_find[\"rating\"][\"count\"])\n",
    "    print()"
   ]
  },
  {
   "cell_type": "markdown",
   "metadata": {},
   "source": [
    "## 69. Webアプリケーションの作成\n",
    "ユーザから入力された検索条件に合致するアーティストの情報を表示するWebアプリケーションを作成せよ．アーティスト名，アーティストの別名，タグ等で検索条件を指定し，アーティスト情報のリストをレーティングの高い順などで整列して表示せよ．"
   ]
  }
 ],
 "metadata": {
  "kernelspec": {
   "display_name": "Python 3",
   "language": "python",
   "name": "python3"
  },
  "language_info": {
   "codemirror_mode": {
    "name": "ipython",
    "version": 3
   },
   "file_extension": ".py",
   "mimetype": "text/x-python",
   "name": "python",
   "nbconvert_exporter": "python",
   "pygments_lexer": "ipython3",
   "version": "3.6.9"
  }
 },
 "nbformat": 4,
 "nbformat_minor": 4
}
