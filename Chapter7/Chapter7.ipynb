{
 "cells": [
  {
   "cell_type": "markdown",
   "metadata": {},
   "source": [
    "# [第7章: データベース](http://www.cl.ecei.tohoku.ac.jp/nlp100/#ch7)\n",
    "[artist.json.gz](http://www.cl.ecei.tohoku.ac.jp/nlp100/data/artist.json.gz)は，オープンな音楽データベース[MusicBrainz](https://musicbrainz.org/)の中で，アーティストに関するものをJSON形式に変換し，gzip形式で圧縮したファイルである．このファイルには，1アーティストに関する情報が1行にJSON形式で格納されている．JSON形式の概要は以下の通りである．\n",
    "\n",
    "| フィールド | 型 | 内容 | 例 |\n",
    "| :--------- | :- | :--- | :- |\n",
    "| id | ユニーク識別子 | 整数 | 20660 |\n",
    "| gid | グローバル識別子 | 文字列 | \"ecf9f3a3-35e9-4c58-acaa-e707fba45060\" |\n",
    "| name | アーティスト名 | 文字列 | \"Oasis\" |\n",
    "| sort_name | アーティスト名（辞書順整列用） | 文字列 | \"Oasis\" |\n",
    "| area | 活動場所 | 文字列 | \"United Kingdom\" |\n",
    "| aliases | 別名 | 辞書オブジェクトのリスト |  |\n",
    "| aliases[].name | 別名 | 文字列 | \"オアシス\" |\n",
    "| aliases[].sort_name | 別名（整列用） | 文字列 | \"オアシス\" |\n",
    "| begin | 活動開始日 | 辞書 |  |\n",
    "| begin.year | 活動開始年 | 整数 | 1991 |\n",
    "| begin.month | 活動開始月 | 整数 |  |\n",
    "| begin.date | 活動開始日 | 整数 |  |\n",
    "| end | 活動終了日 | 辞書 |  |\n",
    "| end.year | 活動終了年 | 整数 | 2009 |\n",
    "| end.month | 活動終了月 | 整数 | 8 |\n",
    "| end.date | 活動終了日 | 整数 | 28 |\n",
    "| tags | タグ | 辞書オブジェクトのリスト |  |\n",
    "| tags[].count | タグ付けされた回数 | 整数 | 1 |\n",
    "| tags[].value | タグ内容 | 文字列 | \"rock\" |\n",
    "| rating | レーティング | 辞書オブジェクト |  |\n",
    "| rating.count | レーティングの投票数 | 整数 | 13 |\n",
    "| rating.value | レーティングの値（平均値） | 整数 | 86 |\n",
    "\n",
    "artist.json.gzのデータをKey-Value-Store (KVS) およびドキュメント志向型データベースに格納・検索することを考える．KVSとしては，[LevelDB](http://leveldb.org/)，[Redis](http://redis.io/)，[KyotoCabinet](http://fallabs.com/kyotocabinet/)等を用いよ．ドキュメント志向型データベースとして，[MongoDB](http://www.mongodb.org/)を採用したが，[CouchDB](http://couchdb.apache.org/)や[RethinkDB](http://rethinkdb.com/)等を用いてもよい．"
   ]
  },
  {
   "cell_type": "code",
   "execution_count": 1,
   "metadata": {},
   "outputs": [
    {
     "name": "stdout",
     "output_type": "stream",
     "text": [
      "../Corpus/artist.json.gz\r\n"
     ]
    }
   ],
   "source": [
    "!ls ../Corpus/artist.json.gz"
   ]
  },
  {
   "cell_type": "markdown",
   "metadata": {},
   "source": [
    "## 60. KVSの構築\n",
    "Key-Value-Store (KVS) を用い，アーティスト名（name）から活動場所（area）を検索するためのデータベースを構築せよ．"
   ]
  },
  {
   "cell_type": "code",
   "execution_count": 2,
   "metadata": {},
   "outputs": [],
   "source": [
    "import gzip\n",
    "import json\n",
    "import plyvel"
   ]
  },
  {
   "cell_type": "code",
   "execution_count": 52,
   "metadata": {},
   "outputs": [],
   "source": [
    "db_60 = plyvel.DB(\"artist_60\", create_if_missing=True)"
   ]
  },
  {
   "cell_type": "code",
   "execution_count": 53,
   "metadata": {},
   "outputs": [
    {
     "name": "stdout",
     "output_type": "stream",
     "text": [
      "CPU times: user 7.99 s, sys: 68.1 ms, total: 8.06 s\n",
      "Wall time: 8.09 s\n"
     ]
    }
   ],
   "source": [
    "%%time\n",
    "with gzip.open(\"../Corpus/artist.json.gz\", mode=\"rt\") as artists_json, db_60.write_batch() as wb_60:\n",
    "    for artist_json in artists_json:\n",
    "        artist = json.loads(artist_json)\n",
    "        if \"name\" not in artist or \"area\" not in artist:\n",
    "            continue\n",
    "        k = artist[\"name\"]\n",
    "        v = artist[\"area\"]\n",
    "        wb_60.put(k.encode(\"utf-8\"), v.encode(\"utf-8\"))"
   ]
  },
  {
   "cell_type": "code",
   "execution_count": 54,
   "metadata": {},
   "outputs": [],
   "source": [
    "db_60.close()"
   ]
  },
  {
   "cell_type": "markdown",
   "metadata": {},
   "source": [
    "## 61. KVSの検索\n",
    "60で構築したデータベースを用い，特定の（指定された）アーティストの活動場所を取得せよ．"
   ]
  },
  {
   "cell_type": "code",
   "execution_count": 49,
   "metadata": {},
   "outputs": [],
   "source": [
    "db_60 = plyvel.DB(\"artist_60\")"
   ]
  },
  {
   "cell_type": "code",
   "execution_count": 50,
   "metadata": {},
   "outputs": [
    {
     "data": {
      "text/plain": [
       "b'United Kingdom'"
      ]
     },
     "execution_count": 50,
     "metadata": {},
     "output_type": "execute_result"
    }
   ],
   "source": [
    "db_60.get(b\"Oasis\")"
   ]
  },
  {
   "cell_type": "code",
   "execution_count": 51,
   "metadata": {},
   "outputs": [],
   "source": [
    "db_60.close()"
   ]
  },
  {
   "cell_type": "markdown",
   "metadata": {},
   "source": [
    "## 62. KVS内の反復処理\n",
    "60で構築したデータベースを用い，活動場所が「Japan」となっているアーティスト数を求めよ．"
   ]
  },
  {
   "cell_type": "code",
   "execution_count": 55,
   "metadata": {},
   "outputs": [],
   "source": [
    "db_60 = plyvel.DB(\"artist_60\")"
   ]
  },
  {
   "cell_type": "code",
   "execution_count": 56,
   "metadata": {},
   "outputs": [
    {
     "data": {
      "text/plain": [
       "22128"
      ]
     },
     "execution_count": 56,
     "metadata": {},
     "output_type": "execute_result"
    }
   ],
   "source": [
    "count = 0\n",
    "for _, v in db_60:\n",
    "    if v == b\"Japan\":\n",
    "        count += 1\n",
    "count"
   ]
  },
  {
   "cell_type": "code",
   "execution_count": 57,
   "metadata": {},
   "outputs": [],
   "source": [
    "db_60.close()"
   ]
  },
  {
   "cell_type": "markdown",
   "metadata": {},
   "source": [
    "## 63. オブジェクトを値に格納したKVS\n",
    "KVSを用い，アーティスト名（name）からタグと被タグ数（タグ付けされた回数）のリストを検索するためのデータベースを構築せよ．さらに，ここで構築したデータベースを用い，アーティスト名からタグと被タグ数を検索せよ．"
   ]
  },
  {
   "cell_type": "markdown",
   "metadata": {},
   "source": [
    "| フィールド | 型 | 内容 | 例 |\n",
    "| :--------- | :- | :--- | :- |\n",
    "| name | アーティスト名 | 文字列 | \"Oasis\" |\n",
    "| tags | タグ | 辞書オブジェクトのリスト |  |\n",
    "| tags[].count | タグ付けされた回数 | 整数 | 1 |\n",
    "| tags[].value | タグ内容 | 文字列 | \"rock\" |"
   ]
  },
  {
   "cell_type": "code",
   "execution_count": 67,
   "metadata": {},
   "outputs": [],
   "source": [
    "db_63 = plyvel.DB(\"artist_63\", create_if_missing=True)"
   ]
  },
  {
   "cell_type": "code",
   "execution_count": 68,
   "metadata": {},
   "outputs": [
    {
     "name": "stdout",
     "output_type": "stream",
     "text": [
      "CPU times: user 7.49 s, sys: 52.6 ms, total: 7.54 s\n",
      "Wall time: 7.6 s\n"
     ]
    }
   ],
   "source": [
    "%%time\n",
    "with gzip.open(\"../Corpus/artist.json.gz\", mode=\"rt\") as artists_json, db_63.write_batch() as wb_63:\n",
    "    i = 0\n",
    "    for artist_json in artists_json:\n",
    "        artist = json.loads(artist_json)\n",
    "        if \"name\" not in artist or \"tags\" not in artist:\n",
    "            continue\n",
    "        k = artist[\"name\"]\n",
    "        v = \"\"\n",
    "        for tag in artist[\"tags\"]:\n",
    "            v += \"%s=%s, \" % (tag[\"value\"], tag[\"count\"])\n",
    "        wb_63.put(k.encode(\"utf-8\"), v[:-2].encode(\"utf-8\"))"
   ]
  },
  {
   "cell_type": "code",
   "execution_count": 69,
   "metadata": {},
   "outputs": [
    {
     "data": {
      "text/plain": [
       "b'polish rock=1, new wave=1'"
      ]
     },
     "execution_count": 69,
     "metadata": {},
     "output_type": "execute_result"
    }
   ],
   "source": [
    "db_63.get(b\"Rezerwat\")"
   ]
  },
  {
   "cell_type": "code",
   "execution_count": 70,
   "metadata": {},
   "outputs": [],
   "source": [
    "db_63.close()"
   ]
  },
  {
   "cell_type": "markdown",
   "metadata": {},
   "source": [
    "## 64. MongoDBの構築\n",
    "アーティスト情報（artist.json.gz）をデータベースに登録せよ．さらに，次のフィールドでインデックスを作成せよ: name, aliases.name, tags.value, rating.value"
   ]
  },
  {
   "cell_type": "markdown",
   "metadata": {},
   "source": [
    "## 65. MongoDBの検索\n",
    "MongoDBのインタラクティブシェルを用いて，\"Queen\"というアーティストに関する情報を取得せよ．さらに，これと同様の処理を行うプログラムを実装せよ．"
   ]
  },
  {
   "cell_type": "markdown",
   "metadata": {},
   "source": [
    "## 66. 検索件数の取得\n",
    "MongoDBのインタラクティブシェルを用いて，活動場所が「Japan」となっているアーティスト数を求めよ．"
   ]
  },
  {
   "cell_type": "markdown",
   "metadata": {},
   "source": [
    "## 67. 複数のドキュメントの取得\n",
    "特定の（指定した）別名を持つアーティストを検索せよ．"
   ]
  },
  {
   "cell_type": "markdown",
   "metadata": {},
   "source": [
    "## 68. ソート\n",
    "\"dance\"というタグを付与されたアーティストの中でレーティングの投票数が多いアーティスト・トップ10を求めよ．"
   ]
  },
  {
   "cell_type": "markdown",
   "metadata": {},
   "source": [
    "## 69. Webアプリケーションの作成\n",
    "ユーザから入力された検索条件に合致するアーティストの情報を表示するWebアプリケーションを作成せよ．アーティスト名，アーティストの別名，タグ等で検索条件を指定し，アーティスト情報のリストをレーティングの高い順などで整列して表示せよ．"
   ]
  }
 ],
 "metadata": {
  "kernelspec": {
   "display_name": "Python 3",
   "language": "python",
   "name": "python3"
  },
  "language_info": {
   "codemirror_mode": {
    "name": "ipython",
    "version": 3
   },
   "file_extension": ".py",
   "mimetype": "text/x-python",
   "name": "python",
   "nbconvert_exporter": "python",
   "pygments_lexer": "ipython3",
   "version": "3.6.9"
  }
 },
 "nbformat": 4,
 "nbformat_minor": 4
}
