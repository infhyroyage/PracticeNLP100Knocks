{
 "cells": [
  {
   "cell_type": "markdown",
   "metadata": {},
   "source": [
    "# [第9章: ベクトル空間法 (I)](http://www.cl.ecei.tohoku.ac.jp/nlp100/#ch9)\n",
    "[enwiki-20150112-400-r10-105752.txt.bz2](http://www.cl.ecei.tohoku.ac.jp/nlp100/data/enwiki-20150112-400-r10-105752.txt.bz2)は，2015年1月12日時点の英語のWikipedia記事のうち，約400語以上で構成される記事の中から，ランダムに1/10サンプリングした105,752記事のテキストをbzip2形式で圧縮したものである．このテキストをコーパスとして，単語の意味を表すベクトル（分散表現）を学習したい．第9章の前半では，コーパスから作成した単語文脈共起行列に主成分分析を適用し，単語ベクトルを学習する過程を，いくつかの処理に分けて実装する．第9章の後半では，学習で得られた単語ベクトル（300次元）を用い，単語の類似度計算やアナロジー（類推）を行う．  \n",
    "なお，問題83を素直に実装すると，大量（約7GB）の主記憶が必要になる．メモリが不足する場合は，処理を工夫するか，1/100サンプリングのコーパス[enwiki-20150112-400-r100-10576.txt.bz2](http://www.cl.ecei.tohoku.ac.jp/nlp100/data/enwiki-20150112-400-r100-10576.txt.bz2)を用いよ．"
   ]
  },
  {
   "cell_type": "code",
   "execution_count": 1,
   "metadata": {},
   "outputs": [
    {
     "name": "stdout",
     "output_type": "stream",
     "text": [
      "Input/enwiki-20150112-400-r10-105752.txt.bz2\r\n",
      "Input/enwiki-20150112-400-r100-10576.txt.bz2\r\n"
     ]
    }
   ],
   "source": [
    "!ls Input/enwiki-20150112-400-*.txt.bz2"
   ]
  },
  {
   "cell_type": "markdown",
   "metadata": {},
   "source": [
    "## 80. コーパスの整形\n",
    "文を単語列に変換する最も単純な方法は，空白文字で単語に区切ることである． ただ，この方法では文末のピリオドや括弧などの記号が単語に含まれてしまう． そこで，コーパスの各行のテキストを空白文字でトークンのリストに分割した後，各トークンに以下の処理を施し，単語から記号を除去せよ．\n",
    "\n",
    "* トークンの先頭と末尾に出現する次の文字を削除: `.,!?;:()[]'\"`\n",
    "* 空文字列となったトークンは削除\n",
    "\n",
    "以上の処理を適用した後，トークンをスペースで連結してファイルに保存せよ．"
   ]
  },
  {
   "cell_type": "code",
   "execution_count": 12,
   "metadata": {},
   "outputs": [],
   "source": [
    "import bz2"
   ]
  },
  {
   "cell_type": "code",
   "execution_count": 19,
   "metadata": {},
   "outputs": [],
   "source": [
    "#with bz2.open(\"Input/enwiki-20150112-400-r10-105752.txt.bz2\") as f:\n",
    "with bz2.open(\"Input/enwiki-20150112-400-r100-10576.txt.bz2\") as f_input, open(\"Output/Chapter9/80.txt\", \"w\") as f_80:\n",
    "    skipped_chars = \".,!?;:()[]'\\\"\"\n",
    "    for i, line in enumerate(f_input):\n",
    "        replaced_tokens = []\n",
    "        for token in line.decode('utf-8').replace(\"\\n\", \"\").split():\n",
    "            start, end = 0, len(token)\n",
    "            while start < end and token[start] in skipped_chars:\n",
    "                start += 1\n",
    "            while start < end and token[end-1] in skipped_chars:\n",
    "                end -= 1\n",
    "            if start == end:\n",
    "                continue\n",
    "            replaced_tokens.append(token[start:end])\n",
    "        f_80.write(\" \".join(replaced_tokens) + \"\\n\")"
   ]
  },
  {
   "cell_type": "markdown",
   "metadata": {},
   "source": [
    "## 81. 複合語からなる国名への対処\n",
    "英語では，複数の語の連接が意味を成すことがある．例えば，アメリカ合衆国は\"United States\"，イギリスは\"United Kingdom\"と表現されるが，\"United\"や\"States\"，\"Kingdom\"という単語だけでは，指し示している概念・実体が曖昧である．そこで，コーパス中に含まれる複合語を認識し，複合語を1語として扱うことで，複合語の意味を推定したい．しかしながら，複合語を正確に認定するのは大変むずかしいので，ここでは複合語からなる国名を認定したい．  \n",
    "インターネット上から国名リストを各自で入手し，80のコーパス中に出現する複合語の国名に関して，スペースをアンダーバーに置換せよ．例えば，\"United States\"は\"United_States\"，\"Isle of Man\"は\"Isle_of_Man\"になるはずである．"
   ]
  },
  {
   "cell_type": "code",
   "execution_count": 1,
   "metadata": {},
   "outputs": [
    {
     "name": "stdout",
     "output_type": "stream",
     "text": [
      "Input/country-names.txt\r\n"
     ]
    }
   ],
   "source": [
    "!ls Input/country-names.txt"
   ]
  },
  {
   "cell_type": "code",
   "execution_count": 6,
   "metadata": {},
   "outputs": [],
   "source": [
    "with open(\"Output/Chapter9/80.txt\") as f_80, open(\"Output/Chapter9/81.txt\", \"w\") as f_81:\n",
    "    country_names = None\n",
    "    with open(\"Input/country-names.txt\") as f:\n",
    "        country_names = [line.replace(\"\\n\", \"\") for line in f]\n",
    "    for line_80 in f_80:\n",
    "        line_81 = line_80\n",
    "        for country_name in country_names:\n",
    "            if country_name in line_81:\n",
    "                line_81 = line_81.replace(country_name, \"_\".join(country_name.split()))\n",
    "        f_81.write(line_81)"
   ]
  },
  {
   "cell_type": "markdown",
   "metadata": {},
   "source": [
    "## 82. 文脈の抽出\n",
    "81で作成したコーパス中に出現するすべての単語$t$に関して，単語$t$と文脈語$c$のペアをタブ区切り形式ですべて書き出せ．ただし，文脈語の定義は次の通りとする．\n",
    "\n",
    "* ある単語$t$の前後$d$単語を文脈語$c$として抽出する（ただし，文脈語に単語$t$そのものは含まない）\n",
    "* 単語$t$を選ぶ度に，文脈幅$d$は$\\{ 1, 2, 3, 4, 5 \\}$の範囲でランダムに決める．"
   ]
  },
  {
   "cell_type": "code",
   "execution_count": 1,
   "metadata": {},
   "outputs": [],
   "source": [
    "import random"
   ]
  },
  {
   "cell_type": "code",
   "execution_count": 2,
   "metadata": {},
   "outputs": [],
   "source": [
    "random.seed(82)"
   ]
  },
  {
   "cell_type": "code",
   "execution_count": 3,
   "metadata": {},
   "outputs": [],
   "source": [
    "with open(\"Output/Chapter9/81.txt\") as f_81, open(\"Output/Chapter9/82.txt\", \"w\") as f_82:\n",
    "    for line in f_81:\n",
    "        words = line.split()\n",
    "        for i, t in enumerate(words):\n",
    "            d = random.randrange(1, 6)\n",
    "            for j in range(max(i-d, 0), min(i+d, len(words))):\n",
    "                if i == j:\n",
    "                    continue\n",
    "                args = (t, words[j])\n",
    "                f_82.write(\"%s\\t%s\\n\" % args)"
   ]
  },
  {
   "cell_type": "markdown",
   "metadata": {},
   "source": [
    "## 83. 単語／文脈の頻度の計測\n",
    "82の出力を利用し，以下の出現分布，および定数を求めよ．\n",
    "\n",
    "* $f(t, c)$: 単語$t$と文脈語$c$の共起回数\n",
    "* $f(t, ∗)$: 単語$t$の出現回数\n",
    "* $f(∗, c)$: 文脈語$c$の出現回数\n",
    "* $N$: 単語と文脈語のペアの総出現回数"
   ]
  },
  {
   "cell_type": "code",
   "execution_count": 8,
   "metadata": {},
   "outputs": [],
   "source": [
    "!sort Output/Chapter9/82.txt | uniq -c > Output/Chapter9/83_t_c.txt"
   ]
  },
  {
   "cell_type": "code",
   "execution_count": 11,
   "metadata": {},
   "outputs": [],
   "source": [
    "!cut --fields=1 Output/Chapter9/82.txt | sort | uniq -c > Output/Chapter9/83_t.txt"
   ]
  },
  {
   "cell_type": "code",
   "execution_count": 12,
   "metadata": {},
   "outputs": [],
   "source": [
    "!cut --fields=2 Output/Chapter9/82.txt | sort | uniq -c > Output/Chapter9/83_c.txt"
   ]
  },
  {
   "cell_type": "code",
   "execution_count": 14,
   "metadata": {},
   "outputs": [],
   "source": [
    "def f(t=None, c=None):\n",
    "    if t is not None and c is not None:\n",
    "        # f(t, c)\n",
    "        with open(\"Output/Chapter9/83_t_c.txt\") as f_83:\n",
    "            for line in f_83:\n",
    "                data = line.split()\n",
    "                if data[1] == t and data[2] == c:\n",
    "                    return int(data[0])\n",
    "            return 0\n",
    "    elif t is not None and c is None:\n",
    "        # f(t, *)\n",
    "        with open(\"Output/Chapter9/83_t.txt\") as f_83:\n",
    "            for line in f_83:\n",
    "                data = line.split()\n",
    "                if data[1] == t:\n",
    "                    return int(data[0])\n",
    "            return 0\n",
    "    elif t is None and c is not None:\n",
    "        # f(*, c)\n",
    "        with open(\"Output/Chapter9/83_c.txt\") as f_83:\n",
    "            for line in f_83:\n",
    "                data = line.split()\n",
    "                if data[1] == c:\n",
    "                    return int(data[0])\n",
    "            return 0\n",
    "    else:\n",
    "        raise ValueError(\"t=*. c=*\")"
   ]
  },
  {
   "cell_type": "code",
   "execution_count": 15,
   "metadata": {},
   "outputs": [
    {
     "data": {
      "text/plain": [
       "5055"
      ]
     },
     "execution_count": 15,
     "metadata": {},
     "output_type": "execute_result"
    }
   ],
   "source": [
    "f(t=\"the\", c=\"United_States\")"
   ]
  },
  {
   "cell_type": "code",
   "execution_count": 30,
   "metadata": {},
   "outputs": [
    {
     "data": {
      "text/plain": [
       "3699311"
      ]
     },
     "execution_count": 30,
     "metadata": {},
     "output_type": "execute_result"
    }
   ],
   "source": [
    "f(t=\"the\")"
   ]
  },
  {
   "cell_type": "code",
   "execution_count": 32,
   "metadata": {},
   "outputs": [
    {
     "data": {
      "text/plain": [
       "29429"
      ]
     },
     "execution_count": 32,
     "metadata": {},
     "output_type": "execute_result"
    }
   ],
   "source": [
    "f(c=\"United_States\")"
   ]
  },
  {
   "cell_type": "code",
   "execution_count": 33,
   "metadata": {},
   "outputs": [],
   "source": [
    "N = 0\n",
    "\n",
    "with open(\"Output/Chapter9/83_t_c.txt\") as f_83:\n",
    "    counts = [int(line.split()[0]) for line in f_83]\n",
    "    N += sum(counts)"
   ]
  },
  {
   "cell_type": "code",
   "execution_count": 34,
   "metadata": {},
   "outputs": [
    {
     "data": {
      "text/plain": [
       "56868889"
      ]
     },
     "execution_count": 34,
     "metadata": {},
     "output_type": "execute_result"
    }
   ],
   "source": [
    "N"
   ]
  },
  {
   "cell_type": "markdown",
   "metadata": {},
   "source": [
    "## 84. 単語文脈行列の作成\n",
    "83の出力を利用し，単語文脈行列$X$を作成せよ．ただし，行列$X$の各要素$X_{tc}$は次のように定義する．\n",
    "\n",
    "* $f(t, c) \\geq 10$ならば，$X_{tc} = \\mathrm{PPMI} (t, c) = \\max \\left\\{ \\log \\frac{N \\times f(t, c)}{f(t, ∗) \\times f(∗, c)} , 0 \\right\\}$\n",
    "* $f(t, c) < 10$ならば，$X_{tc} = 0$\n",
    "\n",
    "ここで，$\\mathrm{PPMI} (t, c)$はPositive Pointwise Mutual Information（正の相互情報量）と呼ばれる統計量である．なお，行列$X$の行数・列数は数百万オーダとなり，行列のすべての要素を主記憶上に載せることは無理なので注意すること．幸い，行列$X$のほとんどの要素は0になるので，非0の要素だけを書き出せばよい．"
   ]
  },
  {
   "cell_type": "markdown",
   "metadata": {},
   "source": [
    "## 85. 主成分分析による次元圧縮\n",
    "84で得られた単語文脈行列に対して，主成分分析を適用し，単語の意味ベクトルを300次元に圧縮せよ．"
   ]
  },
  {
   "cell_type": "markdown",
   "metadata": {},
   "source": [
    "## 86. 単語ベクトルの表示\n",
    "85で得た単語の意味ベクトルを読み込み，\"United States\"のベクトルを表示せよ．ただし，\"United States\"は内部的には\"United_States\"と表現されていることに注意せよ．"
   ]
  },
  {
   "cell_type": "markdown",
   "metadata": {},
   "source": [
    "## 87. 単語の類似度\n",
    "85で得た単語の意味ベクトルを読み込み，\"United States\"と\"U.S.\"のコサイン類似度を計算せよ．ただし，\"U.S.\"は内部的に\"U.S\"と表現されていることに注意せよ．"
   ]
  },
  {
   "cell_type": "markdown",
   "metadata": {},
   "source": [
    "## 88. 類似度の高い単語10件\n",
    "85で得た単語の意味ベクトルを読み込み，\"England\"とコサイン類似度が高い10語と，その類似度を出力せよ．"
   ]
  },
  {
   "cell_type": "markdown",
   "metadata": {},
   "source": [
    "## 89. 加法構成性によるアナロジー\n",
    "85で得た単語の意味ベクトルを読み込み，vec(\"Spain\") - vec(\"Madrid\") + vec(\"Athens\")を計算し，そのベクトルと類似度の高い10語とその類似度を出力せよ．"
   ]
  }
 ],
 "metadata": {
  "history": [],
  "kernelspec": {
   "display_name": "Python 3",
   "language": "python",
   "name": "python3"
  },
  "language_info": {
   "codemirror_mode": {
    "name": "ipython",
    "version": 3
   },
   "file_extension": ".py",
   "mimetype": "text/x-python",
   "name": "python",
   "nbconvert_exporter": "python",
   "pygments_lexer": "ipython3",
   "version": "3.6.9"
  }
 },
 "nbformat": 4,
 "nbformat_minor": 4
}
