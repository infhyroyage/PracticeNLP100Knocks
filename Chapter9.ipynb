{
 "cells": [
  {
   "cell_type": "markdown",
   "metadata": {},
   "source": [
    "# [第9章: ベクトル空間法 (I)](http://www.cl.ecei.tohoku.ac.jp/nlp100/#ch9)\n",
    "[enwiki-20150112-400-r10-105752.txt.bz2](http://www.cl.ecei.tohoku.ac.jp/nlp100/data/enwiki-20150112-400-r10-105752.txt.bz2)は，2015年1月12日時点の英語のWikipedia記事のうち，約400語以上で構成される記事の中から，ランダムに1/10サンプリングした105,752記事のテキストをbzip2形式で圧縮したものである．このテキストをコーパスとして，単語の意味を表すベクトル（分散表現）を学習したい．第9章の前半では，コーパスから作成した単語文脈共起行列に主成分分析を適用し，単語ベクトルを学習する過程を，いくつかの処理に分けて実装する．第9章の後半では，学習で得られた単語ベクトル（300次元）を用い，単語の類似度計算やアナロジー（類推）を行う．  \n",
    "なお，問題83を素直に実装すると，大量（約7GB）の主記憶が必要になる．メモリが不足する場合は，処理を工夫するか，1/100サンプリングのコーパス[enwiki-20150112-400-r100-10576.txt.bz2](http://www.cl.ecei.tohoku.ac.jp/nlp100/data/enwiki-20150112-400-r100-10576.txt.bz2)を用いよ．"
   ]
  },
  {
   "cell_type": "code",
   "execution_count": null,
   "metadata": {},
   "outputs": [],
   "source": [
    "!ls Input/enwiki-20150112-400-*.txt.bz2"
   ]
  },
  {
   "cell_type": "markdown",
   "metadata": {},
   "source": [
    "## 80. コーパスの整形\n",
    "文を単語列に変換する最も単純な方法は，空白文字で単語に区切ることである． ただ，この方法では文末のピリオドや括弧などの記号が単語に含まれてしまう． そこで，コーパスの各行のテキストを空白文字でトークンのリストに分割した後，各トークンに以下の処理を施し，単語から記号を除去せよ．\n",
    "\n",
    "* トークンの先頭と末尾に出現する次の文字を削除: `.,!?;:()[]'\"`\n",
    "* 空文字列となったトークンは削除\n",
    "\n",
    "以上の処理を適用した後，トークンをスペースで連結してファイルに保存せよ．"
   ]
  },
  {
   "cell_type": "code",
   "execution_count": 1,
   "metadata": {},
   "outputs": [],
   "source": [
    "import bz2"
   ]
  },
  {
   "cell_type": "code",
   "execution_count": null,
   "metadata": {},
   "outputs": [],
   "source": [
    "#with bz2.open(\"Input/enwiki-20150112-400-r10-105752.txt.bz2\") as f:\n",
    "with bz2.open(\"Input/enwiki-20150112-400-r100-10576.txt.bz2\") as f_input, open(\"Output/Chapter9/80.txt\", \"w\") as f_80:\n",
    "    skipped_chars = \".,!?;:()[]'\\\"\"\n",
    "    for i, line in enumerate(f_input):\n",
    "        replaced_tokens = []\n",
    "        for token in line.decode('utf-8').replace(\"\\n\", \"\").split():\n",
    "            start, end = 0, len(token)\n",
    "            while start < end and token[start] in skipped_chars:\n",
    "                start += 1\n",
    "            while start < end and token[end-1] in skipped_chars:\n",
    "                end -= 1\n",
    "            if start == end:\n",
    "                continue\n",
    "            replaced_tokens.append(token[start:end])\n",
    "        f_80.write(\" \".join(replaced_tokens) + \"\\n\")"
   ]
  },
  {
   "cell_type": "markdown",
   "metadata": {},
   "source": [
    "## 81. 複合語からなる国名への対処\n",
    "英語では，複数の語の連接が意味を成すことがある．例えば，アメリカ合衆国は\"United States\"，イギリスは\"United Kingdom\"と表現されるが，\"United\"や\"States\"，\"Kingdom\"という単語だけでは，指し示している概念・実体が曖昧である．そこで，コーパス中に含まれる複合語を認識し，複合語を1語として扱うことで，複合語の意味を推定したい．しかしながら，複合語を正確に認定するのは大変むずかしいので，ここでは複合語からなる国名を認定したい．  \n",
    "インターネット上から国名リストを各自で入手し，80のコーパス中に出現する複合語の国名に関して，スペースをアンダーバーに置換せよ．例えば，\"United States\"は\"United_States\"，\"Isle of Man\"は\"Isle_of_Man\"になるはずである．"
   ]
  },
  {
   "cell_type": "code",
   "execution_count": null,
   "metadata": {},
   "outputs": [],
   "source": [
    "!ls Input/country_names_81.txt"
   ]
  },
  {
   "cell_type": "code",
   "execution_count": null,
   "metadata": {},
   "outputs": [],
   "source": [
    "with open(\"Output/Chapter9/80.txt\") as f_80, open(\"Output/Chapter9/81.txt\", \"w\") as f_81:\n",
    "    country_names = None\n",
    "    with open(\"Input/country_names_81.txt\") as f:\n",
    "        country_names = [line.replace(\"\\n\", \"\") for line in f]\n",
    "    for line_80 in f_80:\n",
    "        line_81 = line_80\n",
    "        for country_name in country_names:\n",
    "            if country_name in line_81:\n",
    "                line_81 = line_81.replace(country_name, \"_\".join(country_name.split()))\n",
    "        f_81.write(line_81)"
   ]
  },
  {
   "cell_type": "markdown",
   "metadata": {},
   "source": [
    "## 82. 文脈の抽出\n",
    "81で作成したコーパス中に出現するすべての単語$t$に関して，単語$t$と文脈語$c$のペアをタブ区切り形式ですべて書き出せ．ただし，文脈語の定義は次の通りとする．\n",
    "\n",
    "* ある単語$t$の前後$d$単語を文脈語$c$として抽出する（ただし，文脈語に単語$t$そのものは含まない）\n",
    "* 単語$t$を選ぶ度に，文脈幅$d$は$\\{ 1, 2, 3, 4, 5 \\}$の範囲でランダムに決める．"
   ]
  },
  {
   "cell_type": "code",
   "execution_count": 1,
   "metadata": {},
   "outputs": [],
   "source": [
    "import random"
   ]
  },
  {
   "cell_type": "code",
   "execution_count": 2,
   "metadata": {},
   "outputs": [],
   "source": [
    "random.seed(82)"
   ]
  },
  {
   "cell_type": "code",
   "execution_count": null,
   "metadata": {},
   "outputs": [],
   "source": [
    "with open(\"Output/Chapter9/81.txt\") as f_81, open(\"Output/Chapter9/82.txt\", \"w\") as f_82:\n",
    "    for line in f_81:\n",
    "        words = line.split()\n",
    "        for i, t in enumerate(words):\n",
    "            d = random.randrange(1, 6)\n",
    "            for j in range(max(i-d, 0), min(i+d, len(words))):\n",
    "                if i == j:\n",
    "                    continue\n",
    "                args = (t, words[j])\n",
    "                f_82.write(\"%s\\t%s\\n\" % args)"
   ]
  },
  {
   "cell_type": "markdown",
   "metadata": {},
   "source": [
    "## 83. 単語／文脈の頻度の計測\n",
    "82の出力を利用し，以下の出現分布，および定数を求めよ．\n",
    "\n",
    "* $f(t, c)$: 単語$t$と文脈語$c$の共起回数\n",
    "* $f(t, \\ast )$: 単語$t$の出現回数\n",
    "* $f( \\ast , c)$: 文脈語$c$の出現回数\n",
    "* $N$: 単語と文脈語のペアの総出現回数"
   ]
  },
  {
   "cell_type": "code",
   "execution_count": 3,
   "metadata": {},
   "outputs": [],
   "source": [
    "import subprocess"
   ]
  },
  {
   "cell_type": "code",
   "execution_count": null,
   "metadata": {},
   "outputs": [],
   "source": [
    "!sort Output/Chapter9/82.txt | uniq -c > Output/Chapter9/83_f_tc.txt"
   ]
  },
  {
   "cell_type": "code",
   "execution_count": null,
   "metadata": {},
   "outputs": [],
   "source": [
    "!cut --fields=1 Output/Chapter9/82.txt | sort | uniq -c > Output/Chapter9/83_f_t.txt"
   ]
  },
  {
   "cell_type": "code",
   "execution_count": null,
   "metadata": {},
   "outputs": [],
   "source": [
    "!cut --fields=2 Output/Chapter9/82.txt | sort | uniq -c > Output/Chapter9/83_f_c.txt"
   ]
  },
  {
   "cell_type": "code",
   "execution_count": 12,
   "metadata": {},
   "outputs": [],
   "source": [
    "def f(t=None, c=None):\n",
    "    args = [\"grep\"]\n",
    "\n",
    "    if t is not None and c is not None:\n",
    "        # f(t, c)\n",
    "        # grep \" t[[:space:]]c$\" Output/Chapter9/83_t_c.txt\n",
    "        args.append(\" %s[[:space:]]%s$\" % (t, c))\n",
    "        args.append(\"Output/Chapter9/83_f_tc.txt\")\n",
    "    elif t is not None and c is None:\n",
    "        # f(t, *)\n",
    "        # grep \" t$\" Output/Chapter9/83_t.txt\n",
    "        args.append(\" %s$\" % t)\n",
    "        args.append(\"Output/Chapter9/83_f_t.txt\")\n",
    "    elif t is None and c is not None:\n",
    "        # f(*, c)\n",
    "        # grep \" c$\" Output/Chapter9/83_c.txt\n",
    "        args.append(\" %s$\" % c)\n",
    "        args.append(\"Output/Chapter9/83_f_c.txt\")\n",
    "    else:\n",
    "        raise ValueError(\"f(*, *)\")\n",
    "\n",
    "    try:\n",
    "        return int(subprocess.check_output(args).split()[0])\n",
    "    except subprocess.CalledProcessError:\n",
    "        return 0"
   ]
  },
  {
   "cell_type": "code",
   "execution_count": null,
   "metadata": {},
   "outputs": [],
   "source": [
    "%%time\n",
    "f(t=\"the\", c=\"United_States\")"
   ]
  },
  {
   "cell_type": "code",
   "execution_count": null,
   "metadata": {},
   "outputs": [],
   "source": [
    "%%time\n",
    "f(t=\"the\")"
   ]
  },
  {
   "cell_type": "code",
   "execution_count": null,
   "metadata": {},
   "outputs": [],
   "source": [
    "%%time\n",
    "f(c=\"United_States\")"
   ]
  },
  {
   "cell_type": "code",
   "execution_count": 5,
   "metadata": {},
   "outputs": [
    {
     "name": "stdout",
     "output_type": "stream",
     "text": [
      "CPU times: user 4.05 ms, sys: 0 ns, total: 4.05 ms\n",
      "Wall time: 189 ms\n"
     ]
    },
    {
     "data": {
      "text/plain": [
       "18354205"
      ]
     },
     "execution_count": 5,
     "metadata": {},
     "output_type": "execute_result"
    }
   ],
   "source": [
    "%%time\n",
    "args = [\"wc\", \"-l\", \"Output/Chapter9/83_f_tc.txt\"]\n",
    "N = int(subprocess.check_output(args).split()[0])\n",
    "\n",
    "N"
   ]
  },
  {
   "cell_type": "markdown",
   "metadata": {},
   "source": [
    "## 84. 単語文脈行列の作成\n",
    "83の出力を利用し，単語文脈行列$X$を作成せよ．ただし，行列$X$の各要素$X_{tc}$は次のように定義する．\n",
    "\n",
    "* $f(t, c) \\geq 10$ならば，$X_{tc} = \\mathrm{PPMI} (t, c) = \\max \\left\\{ \\log \\frac{N \\times f(t, c)}{f(t, \\ast ) \\times f( \\ast , c)} , 0 \\right\\}$\n",
    "* $f(t, c) < 10$ならば，$X_{tc} = 0$\n",
    "\n",
    "ここで，$\\mathrm{PPMI} (t, c)$はPositive Pointwise Mutual Information（正の相互情報量）と呼ばれる統計量である．なお，行列$X$の行数・列数は数百万オーダとなり，行列のすべての要素を主記憶上に載せることは無理なので注意すること．幸い，行列$X$のほとんどの要素は0になるので，非0の要素だけを書き出せばよい．"
   ]
  },
  {
   "cell_type": "code",
   "execution_count": 4,
   "metadata": {},
   "outputs": [],
   "source": [
    "from math import log\n",
    "import pickle\n",
    "from scipy.sparse import csr_matrix\n",
    "from tqdm import tqdm"
   ]
  },
  {
   "cell_type": "code",
   "execution_count": null,
   "metadata": {},
   "outputs": [],
   "source": [
    "%%time\n",
    "with open(\"Output/Chapter9/83_f_tc.txt\") as f_83, open(\"Output/Chapter9/84_f_tc.txt\", \"w\") as f_84:\n",
    "    for line in f_83:\n",
    "        elements = line.split()\n",
    "        if int(elements[0]) >= 10:\n",
    "            f_84.write(\" \".join(elements) + \"\\n\")"
   ]
  },
  {
   "cell_type": "code",
   "execution_count": 6,
   "metadata": {},
   "outputs": [
    {
     "name": "stdout",
     "output_type": "stream",
     "text": [
      "len(t_list)=382481, len(c_list)=382901\n",
      "CPU times: user 211 ms, sys: 36.5 ms, total: 247 ms\n",
      "Wall time: 248 ms\n"
     ]
    }
   ],
   "source": [
    "%%time\n",
    "t_list, c_list = None, None\n",
    "\n",
    "with open(\"Output/Chapter9/83_f_t.txt\") as f_83_t, open(\"Output/Chapter9/83_f_c.txt\") as f_83_c:\n",
    "    t_list = [line.split()[1] for line in f_83_t]\n",
    "    c_list = [line.split()[1] for line in f_83_c]\n",
    "\n",
    "print(\"len(t_list)=%d, len(c_list)=%d\" % (len(t_list), len(c_list)))"
   ]
  },
  {
   "cell_type": "code",
   "execution_count": null,
   "metadata": {},
   "outputs": [],
   "source": [
    "%%time\n",
    "X = None\n",
    "\n",
    "with open(\"Output/Chapter9/84_f_tc.txt\") as f_84_tc:\n",
    "    data, row, col = [], [], []\n",
    "\n",
    "    for line in tqdm(f_84_tc):\n",
    "        elements = line.split()\n",
    "        f_tc, t, c = int(elements[0]), elements[1], elements[2]\n",
    "        f_t, f_c = f(t=t), f(c=c)\n",
    "        ppmi = max(0.0, log(float(N*f_tc) / float(f_t*f_c)))\n",
    "        if ppmi > 0.0:\n",
    "            data.append(ppmi)\n",
    "            row.append(t_list.index(t))\n",
    "            col.append(c_list.index(c))\n",
    "\n",
    "    X = csr_matrix((data, (row, col)), shape=(len(t_list), len(c_list)))\n",
    "\n",
    "X"
   ]
  },
  {
   "cell_type": "code",
   "execution_count": null,
   "metadata": {},
   "outputs": [],
   "source": [
    "with open(\"Output/Chapter9/84_X.pickle\", \"wb\") as f_84_X:\n",
    "    pickle.dump(X, f_84_X)"
   ]
  },
  {
   "cell_type": "code",
   "execution_count": 8,
   "metadata": {},
   "outputs": [
    {
     "data": {
      "text/plain": [
       "<382481x382901 sparse matrix of type '<class 'numpy.float64'>'\n",
       "\twith 144717 stored elements in Compressed Sparse Row format>"
      ]
     },
     "execution_count": 8,
     "metadata": {},
     "output_type": "execute_result"
    }
   ],
   "source": [
    "X = None\n",
    "\n",
    "with open(\"Output/Chapter9/84_X.pickle\", \"rb\") as f_84_X:\n",
    "    X = pickle.load(f_84_X)\n",
    "\n",
    "X"
   ]
  },
  {
   "cell_type": "code",
   "execution_count": 9,
   "metadata": {},
   "outputs": [
    {
     "data": {
      "text/plain": [
       "233727"
      ]
     },
     "execution_count": 9,
     "metadata": {},
     "output_type": "execute_result"
    }
   ],
   "source": [
    "idx_united_states = t_list.index(\"United_States\")\n",
    "idx_united_states"
   ]
  },
  {
   "cell_type": "code",
   "execution_count": 10,
   "metadata": {},
   "outputs": [
    {
     "data": {
      "text/plain": [
       "<1x382901 sparse matrix of type '<class 'numpy.float64'>'\n",
       "\twith 101 stored elements in Compressed Sparse Row format>"
      ]
     },
     "execution_count": 10,
     "metadata": {},
     "output_type": "execute_result"
    }
   ],
   "source": [
    "X[idx_united_states]"
   ]
  },
  {
   "cell_type": "markdown",
   "metadata": {},
   "source": [
    "## 85. 主成分分析による次元圧縮\n",
    "84で得られた単語文脈行列に対して，主成分分析を適用し，単語の意味ベクトルを300次元に圧縮せよ．"
   ]
  },
  {
   "cell_type": "code",
   "execution_count": 11,
   "metadata": {},
   "outputs": [],
   "source": [
    "from sklearn.decomposition import TruncatedSVD"
   ]
  },
  {
   "cell_type": "code",
   "execution_count": 12,
   "metadata": {},
   "outputs": [
    {
     "name": "stdout",
     "output_type": "stream",
     "text": [
      "CPU times: user 3min 30s, sys: 44.3 s, total: 4min 14s\n",
      "Wall time: 1min 30s\n"
     ]
    },
    {
     "data": {
      "text/plain": [
       "(382481, 300)"
      ]
     },
     "execution_count": 12,
     "metadata": {},
     "output_type": "execute_result"
    }
   ],
   "source": [
    "%%time\n",
    "spca = TruncatedSVD(n_components=300, random_state=85).fit(X)\n",
    "X_comp = spca.transform(X)\n",
    "\n",
    "X_comp.shape"
   ]
  },
  {
   "cell_type": "code",
   "execution_count": 13,
   "metadata": {},
   "outputs": [],
   "source": [
    "with open(\"Output/Chapter9/85_X_comp.pickle\", \"wb\") as f_85:\n",
    "    pickle.dump(X_comp, f_85)"
   ]
  },
  {
   "cell_type": "code",
   "execution_count": 14,
   "metadata": {},
   "outputs": [
    {
     "data": {
      "text/plain": [
       "(382481, 300)"
      ]
     },
     "execution_count": 14,
     "metadata": {},
     "output_type": "execute_result"
    }
   ],
   "source": [
    "X_comp = None\n",
    "\n",
    "with open(\"Output/Chapter9/85_X_comp.pickle\", \"rb\") as f_85:\n",
    "    X_comp = pickle.load(f_85)\n",
    "\n",
    "X_comp.shape"
   ]
  },
  {
   "cell_type": "markdown",
   "metadata": {},
   "source": [
    "## 86. 単語ベクトルの表示\n",
    "85で得た単語の意味ベクトルを読み込み，\"United States\"のベクトルを表示せよ．ただし，\"United States\"は内部的には\"United_States\"と表現されていることに注意せよ．"
   ]
  },
  {
   "cell_type": "code",
   "execution_count": 15,
   "metadata": {},
   "outputs": [
    {
     "name": "stdout",
     "output_type": "stream",
     "text": [
      "The history saving thread hit an unexpected error (OperationalError('database is locked',)).History will not be written to the database."
     ]
    },
    {
     "data": {
      "text/plain": [
       "(300,)"
      ]
     },
     "execution_count": 15,
     "metadata": {},
     "output_type": "execute_result"
    },
    {
     "name": "stdout",
     "output_type": "stream",
     "text": [
      "\n"
     ]
    }
   ],
   "source": [
    "X_comp[idx_united_states].shape"
   ]
  },
  {
   "cell_type": "code",
   "execution_count": 16,
   "metadata": {
    "scrolled": true
   },
   "outputs": [
    {
     "data": {
      "text/plain": [
       "array([ 3.13457598e-01,  2.96968861e+00, -6.36476128e-01, -3.18611768e-01,\n",
       "       -2.80688932e-01, -6.08157837e-02,  9.02046903e-02, -7.82913050e-01,\n",
       "        8.55961697e-01, -4.59676998e-02,  1.64324883e+00, -9.31279891e-01,\n",
       "        4.26686381e-01, -3.04092016e-01,  2.97654980e-01, -1.26470246e+00,\n",
       "        1.48797728e+00, -1.89338813e+00,  1.96700854e+00,  9.51237625e-01,\n",
       "        6.41593206e-01, -5.33678705e-01,  2.95409447e-01,  9.21636399e-01,\n",
       "       -4.38686169e-01, -6.44582722e-01, -2.48358341e-01,  2.64791679e-01,\n",
       "        2.46012089e-01, -3.39927371e-02,  3.08611610e-01, -6.12512884e-01,\n",
       "        5.40496419e-01, -5.39949727e-01,  6.93305813e-01,  2.61330318e-01,\n",
       "        1.11777459e-02, -4.35980864e-01, -1.93763364e-01, -9.30712995e-02,\n",
       "       -7.38301973e-01, -6.20037386e-02,  5.51789699e-01,  1.00155707e-01,\n",
       "       -9.03525935e-02, -8.08976103e-02, -5.72514020e-03, -8.16085157e-01,\n",
       "       -2.36328937e-01,  1.81316040e-02, -3.96104702e-01, -4.86715512e-02,\n",
       "       -2.48497517e-01, -9.56605687e-02, -6.63865476e-02,  2.41020264e-01,\n",
       "        1.04142149e+00, -5.13265273e-01, -1.47845059e+00, -4.60514329e-01,\n",
       "       -3.15173251e-01, -1.84316078e-01,  1.70867473e-01,  9.40282045e-01,\n",
       "       -2.16683243e-01, -2.80875826e-01, -1.64179395e+00, -4.38221066e-01,\n",
       "        3.24616103e-01, -2.99938322e-01,  2.00999605e-02,  2.55254264e-02,\n",
       "        2.22897736e-01,  5.05563158e-01, -6.46006475e-01, -2.34229222e-01,\n",
       "        3.72671607e-01, -2.04012799e-01, -3.84125684e-02,  7.34236515e-02,\n",
       "       -8.83129407e-01, -1.14957825e+00, -5.01027591e-01, -9.43086547e-01,\n",
       "       -6.16888689e-01, -1.38000004e-01,  4.74511142e-01,  4.28969718e-01,\n",
       "        5.05226940e-02,  2.98013754e-01,  4.38606061e-02,  3.00234924e-01,\n",
       "       -2.66688098e-01,  1.96451157e-01, -9.53105865e-01, -1.60498127e-01,\n",
       "       -1.97604815e-01,  1.99184730e-01, -2.67888214e-01, -1.63135357e-01,\n",
       "       -1.62964451e-01, -8.24169449e-02,  3.88528110e-02,  4.04636628e-01,\n",
       "        6.82099334e-02,  4.11044290e-01,  3.55865684e-01, -4.69771624e-01,\n",
       "        7.60168064e-01, -8.23087125e-01,  1.09575378e-01, -3.78759785e-01,\n",
       "        1.15305651e+00,  2.40485614e-01, -5.02626303e-01,  8.84241099e-02,\n",
       "        4.62336226e-01, -3.27307600e-01,  6.92460708e-01,  6.77877556e-01,\n",
       "       -5.89995079e-01, -2.23943838e-01,  1.54379731e-01, -2.54913643e-01,\n",
       "       -7.42482317e-01,  3.07068977e-01,  4.45634522e-01, -7.28074329e-01,\n",
       "       -4.92464954e-02,  5.59756177e-01,  2.56308544e-01, -7.03812559e-01,\n",
       "       -5.38199840e-01, -2.15097347e-01,  2.32968067e-01,  7.13696052e-01,\n",
       "       -3.49255740e-01,  1.08013684e+00,  2.50846892e-01,  2.87387496e-01,\n",
       "        1.28771284e-01, -2.93109665e-01,  7.43756360e-01,  7.91790793e-01,\n",
       "        1.69061274e-01, -3.70053313e-01, -4.54457532e-01, -2.16705964e-01,\n",
       "        5.47601864e-01, -2.64623634e-01,  3.23198998e-02, -1.01167896e+00,\n",
       "       -2.09935244e-01, -6.11194624e-01,  7.41648056e-02,  5.08983920e-01,\n",
       "        4.25343857e-01,  3.00950366e-01, -1.33675963e-02, -3.61483292e-01,\n",
       "        1.48061009e+00,  4.18333692e-01,  5.00687353e-01,  4.60573535e-01,\n",
       "        3.56606354e-02, -6.40773914e-01,  3.40018506e-01,  2.42702916e-01,\n",
       "       -5.93756388e-02, -6.17802607e-01,  5.52624318e-01, -3.65439673e-03,\n",
       "       -4.42356870e-02, -5.29731164e-01, -4.31913117e-01, -5.08691449e-01,\n",
       "        2.43620099e-01,  3.77535126e-01,  1.43480757e-01, -6.17910626e-01,\n",
       "        2.57635652e-02, -1.82841740e-01,  3.23391375e-01,  3.66639956e-01,\n",
       "        1.11294270e-01,  7.11774902e-01, -3.55298800e-01,  2.59130162e-01,\n",
       "        4.01535485e-01,  5.69068184e-01, -3.33129303e-01,  7.71574856e-01,\n",
       "       -2.41325256e-01,  3.04458166e-01,  1.48973201e-01,  2.18760615e-01,\n",
       "        1.18002988e-01,  2.82362528e-01,  2.42125885e-01,  1.03110406e-01,\n",
       "       -5.27033354e-03,  9.16820338e-02, -2.36266693e-01, -7.13730452e-01,\n",
       "        2.56198636e-01, -4.28862401e-02,  4.84357560e-01,  1.41169334e-01,\n",
       "       -5.72290690e-02,  4.74332622e-01,  4.60777858e-02,  1.81095270e-01,\n",
       "        5.23247675e-01, -2.22224436e-01,  1.56495855e-01,  1.28129757e+00,\n",
       "        3.74030805e-01,  1.36110066e-01,  6.06448634e-02, -6.13935430e-01,\n",
       "       -3.19066849e-01,  4.18592303e-01, -2.86721397e-02, -3.59718557e-01,\n",
       "        2.84050406e-03,  1.25087465e-01,  3.51598273e-01, -1.68284311e-01,\n",
       "       -1.07547786e-01, -4.98862356e-01,  3.95004935e-01, -2.11570430e-02,\n",
       "       -7.69754473e-02,  4.22166452e-02,  6.32295322e-01,  3.99243358e-02,\n",
       "        8.45089147e-02, -2.29474967e-01, -6.05599108e-01,  3.13187481e-02,\n",
       "        2.92924141e-01, -2.72511623e-01,  3.93121940e-01,  4.65510581e-01,\n",
       "       -6.12960149e-01, -1.07498499e-01,  2.17062445e-01,  2.82945036e-01,\n",
       "        3.31345803e-01,  1.37130674e-01,  4.00794228e-01, -6.62690699e-01,\n",
       "       -1.51995224e-01, -7.13206819e-01, -1.31463547e+00,  4.82152499e-01,\n",
       "       -2.25942668e-01,  1.94969425e-01, -1.20458099e-01,  2.22152198e-01,\n",
       "       -1.18878064e-01,  4.93199209e-01, -3.91286206e-01,  4.19343631e-01,\n",
       "        6.43851766e-01, -3.41676641e-01, -3.59767014e-01, -4.63239187e-01,\n",
       "       -8.08010148e-02, -2.07873814e-01,  2.62650618e-01,  2.59640637e-01,\n",
       "       -5.36420220e-01,  3.21579095e-01, -1.29499677e-01, -5.64725482e-01,\n",
       "        2.22430558e-01, -2.43112119e-01, -9.35643974e-02,  2.46882279e-01,\n",
       "        3.41858484e-01,  1.03456284e-01, -1.65705938e-01,  1.28655406e-01,\n",
       "        2.03954189e-01,  5.02895687e-01, -7.08591050e-01,  8.90675811e-02,\n",
       "       -3.02017063e-01, -6.58903913e-03, -4.67626273e-01,  5.70465399e-01,\n",
       "       -3.42539498e-01, -3.68753236e-01, -5.21211766e-01, -1.71411513e-02,\n",
       "        3.36588454e-01, -4.15375380e-01, -3.40424686e-01, -1.78306172e-01])"
      ]
     },
     "execution_count": 16,
     "metadata": {},
     "output_type": "execute_result"
    }
   ],
   "source": [
    "X_comp[idx_united_states]"
   ]
  },
  {
   "cell_type": "markdown",
   "metadata": {},
   "source": [
    "## 87. 単語の類似度\n",
    "85で得た単語の意味ベクトルを読み込み，\"United States\"と\"U.S.\"のコサイン類似度を計算せよ．ただし，\"U.S.\"は内部的に\"U.S\"と表現されていることに注意せよ．"
   ]
  },
  {
   "cell_type": "code",
   "execution_count": 17,
   "metadata": {},
   "outputs": [],
   "source": [
    "import numpy as np"
   ]
  },
  {
   "cell_type": "code",
   "execution_count": 18,
   "metadata": {},
   "outputs": [],
   "source": [
    "def cossim(x: np.ndarray, y: np.ndarray):\n",
    "    if np.linalg.norm(x) == 0 or np.linalg.norm(y) == 0:\n",
    "        return -1\n",
    "    else:\n",
    "        return np.dot(x,y) / (np.linalg.norm(x)*np.linalg.norm(y))"
   ]
  },
  {
   "cell_type": "code",
   "execution_count": 19,
   "metadata": {},
   "outputs": [
    {
     "data": {
      "text/plain": [
       "231734"
      ]
     },
     "execution_count": 19,
     "metadata": {},
     "output_type": "execute_result"
    }
   ],
   "source": [
    "idx_u_s = t_list.index(\"U.S\")\n",
    "idx_u_s"
   ]
  },
  {
   "cell_type": "code",
   "execution_count": 20,
   "metadata": {},
   "outputs": [
    {
     "data": {
      "text/plain": [
       "0.8293433136280866"
      ]
     },
     "execution_count": 20,
     "metadata": {},
     "output_type": "execute_result"
    }
   ],
   "source": [
    "cossim(X_comp[idx_united_states], X_comp[idx_u_s])"
   ]
  },
  {
   "cell_type": "markdown",
   "metadata": {},
   "source": [
    "## 88. 類似度の高い単語10件\n",
    "85で得た単語の意味ベクトルを読み込み，\"England\"とコサイン類似度が高い10語と，その類似度を出力せよ．"
   ]
  },
  {
   "cell_type": "code",
   "execution_count": 21,
   "metadata": {},
   "outputs": [],
   "source": [
    "def print_top_10(x: np.ndarray):\n",
    "    cos_sims = [cossim(x,X_comp[i]) for i in tqdm(range(len(t_list)))]\n",
    "    indices = np.argsort(cos_sims)\n",
    "    for i in range(-1, -11, -1):\n",
    "        args = (-i, t_list[indices[i]], cos_sims[indices[i]])\n",
    "        print(\"[%d/10] %s : %f\" % args)"
   ]
  },
  {
   "cell_type": "code",
   "execution_count": 22,
   "metadata": {},
   "outputs": [
    {
     "data": {
      "text/plain": [
       "94156"
      ]
     },
     "execution_count": 22,
     "metadata": {},
     "output_type": "execute_result"
    }
   ],
   "source": [
    "idx_england = t_list.index(\"England\")\n",
    "idx_england"
   ]
  },
  {
   "cell_type": "code",
   "execution_count": 23,
   "metadata": {},
   "outputs": [
    {
     "name": "stderr",
     "output_type": "stream",
     "text": [
      "100%|██████████| 382481/382481 [00:03<00:00, 102971.49it/s]\n"
     ]
    },
    {
     "name": "stdout",
     "output_type": "stream",
     "text": [
      "[1/10] England : 1.000000\n",
      "[2/10] Scotland : 0.693036\n",
      "[3/10] Spain : 0.540434\n",
      "[4/10] Wales : 0.533111\n",
      "[5/10] Germany : 0.506487\n",
      "[6/10] Italy : 0.505202\n",
      "[7/10] Rome : 0.488755\n",
      "[8/10] Hungary : 0.484105\n",
      "[9/10] France : 0.475182\n",
      "[10/10] Patriots : 0.469502\n"
     ]
    }
   ],
   "source": [
    "print_top_10(X_comp[idx_england])"
   ]
  },
  {
   "cell_type": "markdown",
   "metadata": {},
   "source": [
    "## 89. 加法構成性によるアナロジー\n",
    "85で得た単語の意味ベクトルを読み込み，vec(\"Spain\") - vec(\"Madrid\") + vec(\"Athens\")を計算し，そのベクトルと類似度の高い10語とその類似度を出力せよ．"
   ]
  },
  {
   "cell_type": "code",
   "execution_count": 24,
   "metadata": {},
   "outputs": [
    {
     "data": {
      "text/plain": [
       "(214548, 151562, 48137)"
      ]
     },
     "execution_count": 24,
     "metadata": {},
     "output_type": "execute_result"
    }
   ],
   "source": [
    "args = (t_list.index(\"Spain\"), t_list.index(\"Madrid\"), t_list.index(\"Athens\"))\n",
    "args"
   ]
  },
  {
   "cell_type": "code",
   "execution_count": 25,
   "metadata": {},
   "outputs": [
    {
     "name": "stderr",
     "output_type": "stream",
     "text": [
      "100%|██████████| 382481/382481 [00:03<00:00, 105343.30it/s]"
     ]
    },
    {
     "name": "stdout",
     "output_type": "stream",
     "text": [
      "[1/10] Spain : 0.843044\n",
      "[2/10] Sweden : 0.815025\n",
      "[3/10] Austria : 0.786050\n",
      "[4/10] Belgium : 0.771359\n",
      "[5/10] Netherlands : 0.767125\n",
      "[6/10] Vichy : 0.765154\n",
      "[7/10] Télévisions : 0.765154\n",
      "[8/10] Turkey : 0.762232\n",
      "[9/10] Hamburg : 0.749733\n",
      "[10/10] Bavaria : 0.749257\n"
     ]
    },
    {
     "name": "stderr",
     "output_type": "stream",
     "text": [
      "\n"
     ]
    }
   ],
   "source": [
    "x_89 = X_comp[args[0]] - X_comp[args[1]] + X_comp[args[2]]\n",
    "print_top_10(x_89)"
   ]
  }
 ],
 "metadata": {
  "history": [],
  "kernelspec": {
   "display_name": "Python 3",
   "language": "python",
   "name": "python3"
  },
  "language_info": {
   "codemirror_mode": {
    "name": "ipython",
    "version": 3
   },
   "file_extension": ".py",
   "mimetype": "text/x-python",
   "name": "python",
   "nbconvert_exporter": "python",
   "pygments_lexer": "ipython3",
   "version": "3.6.9"
  }
 },
 "nbformat": 4,
 "nbformat_minor": 4
}
